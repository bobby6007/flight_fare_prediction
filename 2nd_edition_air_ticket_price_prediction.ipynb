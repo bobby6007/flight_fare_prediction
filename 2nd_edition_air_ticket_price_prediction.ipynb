{
  "nbformat": 4,
  "nbformat_minor": 0,
  "metadata": {
    "colab": {
      "name": "2nd_edition_air_ticket_price_prediction.ipynb",
      "provenance": [],
      "collapsed_sections": []
    },
    "kernelspec": {
      "name": "python3",
      "display_name": "Python 3"
    },
    "language_info": {
      "name": "python"
    }
  },
  "cells": [
    {
      "cell_type": "markdown",
      "source": [
        "\n",
        "In this dataset we will analyze the flight fare for Indian airways companies in 2019 between the months of march and june.\n",
        "\n"
      ],
      "metadata": {
        "id": "_i0prPNUOLtj"
      }
    },
    {
      "cell_type": "code",
      "source": [
        "# Calling pandas and numpy\n",
        "import pandas as pd\n",
        "import numpy as np\n",
        "\n",
        "\n",
        "# Calling visualizations libraries\n",
        "import matplotlib.pyplot as plt\n",
        "import seaborn as sns\n",
        "\n",
        "\n",
        "\n",
        "from sklearn.preprocessing import StandardScaler\n",
        "from sklearn.model_selection import train_test_split\n",
        "from sklearn.ensemble import RandomForestRegressor\n",
        "from sklearn.linear_model import LinearRegression\n",
        "from sklearn.tree import DecisionTreeRegressor\n",
        "from sklearn.metrics import mean_squared_error\n",
        "from sklearn import metrics\n",
        "from sklearn.model_selection import cross_val_score\n",
        "from xgboost import XGBRegressor as xgbr\n",
        "from sklearn.metrics import r2_score\n",
        "from sklearn.preprocessing import LabelEncoder\n",
        "\n",
        "from sklearn.model_selection import cross_val_score, KFold\n",
        "\n"
      ],
      "metadata": {
        "id": "qBum8hhadPSb"
      },
      "execution_count": 235,
      "outputs": []
    },
    {
      "cell_type": "markdown",
      "source": [
        "Loading our dataset"
      ],
      "metadata": {
        "id": "xk6-TDswN6r3"
      }
    },
    {
      "cell_type": "markdown",
      "source": [
        "Repository: https://github.com/bobby6007/flight_fare_prediction"
      ],
      "metadata": {
        "id": "ufc-CZw6Ri-n"
      }
    },
    {
      "cell_type": "code",
      "execution_count": 236,
      "metadata": {
        "id": "_th4RbsXdJwY"
      },
      "outputs": [],
      "source": [
        "train_data = pd.read_csv('https://raw.githubusercontent.com/bobby6007/flight_fare_prediction/main/train_data.csv',index_col='id')\n",
        "test_data = pd.read_csv('https://raw.githubusercontent.com/bobby6007/flight_fare_prediction/main/test_data.csv', index_col='id')\n"
      ]
    },
    {
      "cell_type": "code",
      "source": [
        "train_data.head()"
      ],
      "metadata": {
        "colab": {
          "base_uri": "https://localhost:8080/",
          "height": 290
        },
        "id": "TB-tEuSYdOWK",
        "outputId": "afbe1655-e1f1-4d8c-e1bd-70c7a57637e8"
      },
      "execution_count": 237,
      "outputs": [
        {
          "output_type": "execute_result",
          "data": {
            "text/plain": [
              "     airline   flight source_city departure_time stops arrival_time  \\\n",
              "id                                                                    \n",
              "1    Vistara   UK-810   Bangalore  Early_Morning   one        Night   \n",
              "2   SpiceJet  SG-5094   Hyderabad        Evening  zero        Night   \n",
              "3    Vistara   UK-846   Bangalore        Morning   one      Evening   \n",
              "4    Vistara   UK-706     Kolkata        Morning   one      Evening   \n",
              "5     Indigo  6E-5394     Chennai  Early_Morning  zero      Morning   \n",
              "\n",
              "   destination_city     class  duration  days_left  price  \n",
              "id                                                         \n",
              "1            Mumbai   Economy     14.25         21   7212  \n",
              "2           Kolkata   Economy      1.75          7   5292  \n",
              "3             Delhi  Business      9.58          5  60553  \n",
              "4         Hyderabad   Economy      6.75         28   5760  \n",
              "5            Mumbai   Economy      2.00          4  10712  "
            ],
            "text/html": [
              "\n",
              "  <div id=\"df-360a641f-f055-4351-8553-14689f3f76b0\">\n",
              "    <div class=\"colab-df-container\">\n",
              "      <div>\n",
              "<style scoped>\n",
              "    .dataframe tbody tr th:only-of-type {\n",
              "        vertical-align: middle;\n",
              "    }\n",
              "\n",
              "    .dataframe tbody tr th {\n",
              "        vertical-align: top;\n",
              "    }\n",
              "\n",
              "    .dataframe thead th {\n",
              "        text-align: right;\n",
              "    }\n",
              "</style>\n",
              "<table border=\"1\" class=\"dataframe\">\n",
              "  <thead>\n",
              "    <tr style=\"text-align: right;\">\n",
              "      <th></th>\n",
              "      <th>airline</th>\n",
              "      <th>flight</th>\n",
              "      <th>source_city</th>\n",
              "      <th>departure_time</th>\n",
              "      <th>stops</th>\n",
              "      <th>arrival_time</th>\n",
              "      <th>destination_city</th>\n",
              "      <th>class</th>\n",
              "      <th>duration</th>\n",
              "      <th>days_left</th>\n",
              "      <th>price</th>\n",
              "    </tr>\n",
              "    <tr>\n",
              "      <th>id</th>\n",
              "      <th></th>\n",
              "      <th></th>\n",
              "      <th></th>\n",
              "      <th></th>\n",
              "      <th></th>\n",
              "      <th></th>\n",
              "      <th></th>\n",
              "      <th></th>\n",
              "      <th></th>\n",
              "      <th></th>\n",
              "      <th></th>\n",
              "    </tr>\n",
              "  </thead>\n",
              "  <tbody>\n",
              "    <tr>\n",
              "      <th>1</th>\n",
              "      <td>Vistara</td>\n",
              "      <td>UK-810</td>\n",
              "      <td>Bangalore</td>\n",
              "      <td>Early_Morning</td>\n",
              "      <td>one</td>\n",
              "      <td>Night</td>\n",
              "      <td>Mumbai</td>\n",
              "      <td>Economy</td>\n",
              "      <td>14.25</td>\n",
              "      <td>21</td>\n",
              "      <td>7212</td>\n",
              "    </tr>\n",
              "    <tr>\n",
              "      <th>2</th>\n",
              "      <td>SpiceJet</td>\n",
              "      <td>SG-5094</td>\n",
              "      <td>Hyderabad</td>\n",
              "      <td>Evening</td>\n",
              "      <td>zero</td>\n",
              "      <td>Night</td>\n",
              "      <td>Kolkata</td>\n",
              "      <td>Economy</td>\n",
              "      <td>1.75</td>\n",
              "      <td>7</td>\n",
              "      <td>5292</td>\n",
              "    </tr>\n",
              "    <tr>\n",
              "      <th>3</th>\n",
              "      <td>Vistara</td>\n",
              "      <td>UK-846</td>\n",
              "      <td>Bangalore</td>\n",
              "      <td>Morning</td>\n",
              "      <td>one</td>\n",
              "      <td>Evening</td>\n",
              "      <td>Delhi</td>\n",
              "      <td>Business</td>\n",
              "      <td>9.58</td>\n",
              "      <td>5</td>\n",
              "      <td>60553</td>\n",
              "    </tr>\n",
              "    <tr>\n",
              "      <th>4</th>\n",
              "      <td>Vistara</td>\n",
              "      <td>UK-706</td>\n",
              "      <td>Kolkata</td>\n",
              "      <td>Morning</td>\n",
              "      <td>one</td>\n",
              "      <td>Evening</td>\n",
              "      <td>Hyderabad</td>\n",
              "      <td>Economy</td>\n",
              "      <td>6.75</td>\n",
              "      <td>28</td>\n",
              "      <td>5760</td>\n",
              "    </tr>\n",
              "    <tr>\n",
              "      <th>5</th>\n",
              "      <td>Indigo</td>\n",
              "      <td>6E-5394</td>\n",
              "      <td>Chennai</td>\n",
              "      <td>Early_Morning</td>\n",
              "      <td>zero</td>\n",
              "      <td>Morning</td>\n",
              "      <td>Mumbai</td>\n",
              "      <td>Economy</td>\n",
              "      <td>2.00</td>\n",
              "      <td>4</td>\n",
              "      <td>10712</td>\n",
              "    </tr>\n",
              "  </tbody>\n",
              "</table>\n",
              "</div>\n",
              "      <button class=\"colab-df-convert\" onclick=\"convertToInteractive('df-360a641f-f055-4351-8553-14689f3f76b0')\"\n",
              "              title=\"Convert this dataframe to an interactive table.\"\n",
              "              style=\"display:none;\">\n",
              "        \n",
              "  <svg xmlns=\"http://www.w3.org/2000/svg\" height=\"24px\"viewBox=\"0 0 24 24\"\n",
              "       width=\"24px\">\n",
              "    <path d=\"M0 0h24v24H0V0z\" fill=\"none\"/>\n",
              "    <path d=\"M18.56 5.44l.94 2.06.94-2.06 2.06-.94-2.06-.94-.94-2.06-.94 2.06-2.06.94zm-11 1L8.5 8.5l.94-2.06 2.06-.94-2.06-.94L8.5 2.5l-.94 2.06-2.06.94zm10 10l.94 2.06.94-2.06 2.06-.94-2.06-.94-.94-2.06-.94 2.06-2.06.94z\"/><path d=\"M17.41 7.96l-1.37-1.37c-.4-.4-.92-.59-1.43-.59-.52 0-1.04.2-1.43.59L10.3 9.45l-7.72 7.72c-.78.78-.78 2.05 0 2.83L4 21.41c.39.39.9.59 1.41.59.51 0 1.02-.2 1.41-.59l7.78-7.78 2.81-2.81c.8-.78.8-2.07 0-2.86zM5.41 20L4 18.59l7.72-7.72 1.47 1.35L5.41 20z\"/>\n",
              "  </svg>\n",
              "      </button>\n",
              "      \n",
              "  <style>\n",
              "    .colab-df-container {\n",
              "      display:flex;\n",
              "      flex-wrap:wrap;\n",
              "      gap: 12px;\n",
              "    }\n",
              "\n",
              "    .colab-df-convert {\n",
              "      background-color: #E8F0FE;\n",
              "      border: none;\n",
              "      border-radius: 50%;\n",
              "      cursor: pointer;\n",
              "      display: none;\n",
              "      fill: #1967D2;\n",
              "      height: 32px;\n",
              "      padding: 0 0 0 0;\n",
              "      width: 32px;\n",
              "    }\n",
              "\n",
              "    .colab-df-convert:hover {\n",
              "      background-color: #E2EBFA;\n",
              "      box-shadow: 0px 1px 2px rgba(60, 64, 67, 0.3), 0px 1px 3px 1px rgba(60, 64, 67, 0.15);\n",
              "      fill: #174EA6;\n",
              "    }\n",
              "\n",
              "    [theme=dark] .colab-df-convert {\n",
              "      background-color: #3B4455;\n",
              "      fill: #D2E3FC;\n",
              "    }\n",
              "\n",
              "    [theme=dark] .colab-df-convert:hover {\n",
              "      background-color: #434B5C;\n",
              "      box-shadow: 0px 1px 3px 1px rgba(0, 0, 0, 0.15);\n",
              "      filter: drop-shadow(0px 1px 2px rgba(0, 0, 0, 0.3));\n",
              "      fill: #FFFFFF;\n",
              "    }\n",
              "  </style>\n",
              "\n",
              "      <script>\n",
              "        const buttonEl =\n",
              "          document.querySelector('#df-360a641f-f055-4351-8553-14689f3f76b0 button.colab-df-convert');\n",
              "        buttonEl.style.display =\n",
              "          google.colab.kernel.accessAllowed ? 'block' : 'none';\n",
              "\n",
              "        async function convertToInteractive(key) {\n",
              "          const element = document.querySelector('#df-360a641f-f055-4351-8553-14689f3f76b0');\n",
              "          const dataTable =\n",
              "            await google.colab.kernel.invokeFunction('convertToInteractive',\n",
              "                                                     [key], {});\n",
              "          if (!dataTable) return;\n",
              "\n",
              "          const docLinkHtml = 'Like what you see? Visit the ' +\n",
              "            '<a target=\"_blank\" href=https://colab.research.google.com/notebooks/data_table.ipynb>data table notebook</a>'\n",
              "            + ' to learn more about interactive tables.';\n",
              "          element.innerHTML = '';\n",
              "          dataTable['output_type'] = 'display_data';\n",
              "          await google.colab.output.renderOutput(dataTable, element);\n",
              "          const docLink = document.createElement('div');\n",
              "          docLink.innerHTML = docLinkHtml;\n",
              "          element.appendChild(docLink);\n",
              "        }\n",
              "      </script>\n",
              "    </div>\n",
              "  </div>\n",
              "  "
            ]
          },
          "metadata": {},
          "execution_count": 237
        }
      ]
    },
    {
      "cell_type": "code",
      "source": [
        "test_data.head()"
      ],
      "metadata": {
        "colab": {
          "base_uri": "https://localhost:8080/",
          "height": 290
        },
        "id": "dyLI4nyvdobm",
        "outputId": "5e7ab140-80d7-428c-832b-4b6400b8420c"
      },
      "execution_count": 238,
      "outputs": [
        {
          "output_type": "execute_result",
          "data": {
            "text/plain": [
              "      airline  flight source_city departure_time stops   arrival_time  \\\n",
              "id                                                                      \n",
              "1   Air_India  AI-765     Kolkata        Evening   one          Night   \n",
              "2     Vistara  UK-747       Delhi  Early_Morning   one          Night   \n",
              "3   Air_India  AI-570      Mumbai  Early_Morning  zero  Early_Morning   \n",
              "4     AirAsia  I5-974   Hyderabad          Night   one     Late_Night   \n",
              "5   Air_India  AI-770     Kolkata          Night   one      Afternoon   \n",
              "\n",
              "   destination_city     class  duration  days_left  \n",
              "id                                                  \n",
              "1             Delhi  Business     28.25          2  \n",
              "2            Mumbai  Business     13.83         34  \n",
              "3           Chennai  Business      2.00         30  \n",
              "4             Delhi   Economy      5.17         26  \n",
              "5            Mumbai   Economy     16.33         35  "
            ],
            "text/html": [
              "\n",
              "  <div id=\"df-c45fec60-73b3-4753-a6d1-b80dcfbb6a93\">\n",
              "    <div class=\"colab-df-container\">\n",
              "      <div>\n",
              "<style scoped>\n",
              "    .dataframe tbody tr th:only-of-type {\n",
              "        vertical-align: middle;\n",
              "    }\n",
              "\n",
              "    .dataframe tbody tr th {\n",
              "        vertical-align: top;\n",
              "    }\n",
              "\n",
              "    .dataframe thead th {\n",
              "        text-align: right;\n",
              "    }\n",
              "</style>\n",
              "<table border=\"1\" class=\"dataframe\">\n",
              "  <thead>\n",
              "    <tr style=\"text-align: right;\">\n",
              "      <th></th>\n",
              "      <th>airline</th>\n",
              "      <th>flight</th>\n",
              "      <th>source_city</th>\n",
              "      <th>departure_time</th>\n",
              "      <th>stops</th>\n",
              "      <th>arrival_time</th>\n",
              "      <th>destination_city</th>\n",
              "      <th>class</th>\n",
              "      <th>duration</th>\n",
              "      <th>days_left</th>\n",
              "    </tr>\n",
              "    <tr>\n",
              "      <th>id</th>\n",
              "      <th></th>\n",
              "      <th></th>\n",
              "      <th></th>\n",
              "      <th></th>\n",
              "      <th></th>\n",
              "      <th></th>\n",
              "      <th></th>\n",
              "      <th></th>\n",
              "      <th></th>\n",
              "      <th></th>\n",
              "    </tr>\n",
              "  </thead>\n",
              "  <tbody>\n",
              "    <tr>\n",
              "      <th>1</th>\n",
              "      <td>Air_India</td>\n",
              "      <td>AI-765</td>\n",
              "      <td>Kolkata</td>\n",
              "      <td>Evening</td>\n",
              "      <td>one</td>\n",
              "      <td>Night</td>\n",
              "      <td>Delhi</td>\n",
              "      <td>Business</td>\n",
              "      <td>28.25</td>\n",
              "      <td>2</td>\n",
              "    </tr>\n",
              "    <tr>\n",
              "      <th>2</th>\n",
              "      <td>Vistara</td>\n",
              "      <td>UK-747</td>\n",
              "      <td>Delhi</td>\n",
              "      <td>Early_Morning</td>\n",
              "      <td>one</td>\n",
              "      <td>Night</td>\n",
              "      <td>Mumbai</td>\n",
              "      <td>Business</td>\n",
              "      <td>13.83</td>\n",
              "      <td>34</td>\n",
              "    </tr>\n",
              "    <tr>\n",
              "      <th>3</th>\n",
              "      <td>Air_India</td>\n",
              "      <td>AI-570</td>\n",
              "      <td>Mumbai</td>\n",
              "      <td>Early_Morning</td>\n",
              "      <td>zero</td>\n",
              "      <td>Early_Morning</td>\n",
              "      <td>Chennai</td>\n",
              "      <td>Business</td>\n",
              "      <td>2.00</td>\n",
              "      <td>30</td>\n",
              "    </tr>\n",
              "    <tr>\n",
              "      <th>4</th>\n",
              "      <td>AirAsia</td>\n",
              "      <td>I5-974</td>\n",
              "      <td>Hyderabad</td>\n",
              "      <td>Night</td>\n",
              "      <td>one</td>\n",
              "      <td>Late_Night</td>\n",
              "      <td>Delhi</td>\n",
              "      <td>Economy</td>\n",
              "      <td>5.17</td>\n",
              "      <td>26</td>\n",
              "    </tr>\n",
              "    <tr>\n",
              "      <th>5</th>\n",
              "      <td>Air_India</td>\n",
              "      <td>AI-770</td>\n",
              "      <td>Kolkata</td>\n",
              "      <td>Night</td>\n",
              "      <td>one</td>\n",
              "      <td>Afternoon</td>\n",
              "      <td>Mumbai</td>\n",
              "      <td>Economy</td>\n",
              "      <td>16.33</td>\n",
              "      <td>35</td>\n",
              "    </tr>\n",
              "  </tbody>\n",
              "</table>\n",
              "</div>\n",
              "      <button class=\"colab-df-convert\" onclick=\"convertToInteractive('df-c45fec60-73b3-4753-a6d1-b80dcfbb6a93')\"\n",
              "              title=\"Convert this dataframe to an interactive table.\"\n",
              "              style=\"display:none;\">\n",
              "        \n",
              "  <svg xmlns=\"http://www.w3.org/2000/svg\" height=\"24px\"viewBox=\"0 0 24 24\"\n",
              "       width=\"24px\">\n",
              "    <path d=\"M0 0h24v24H0V0z\" fill=\"none\"/>\n",
              "    <path d=\"M18.56 5.44l.94 2.06.94-2.06 2.06-.94-2.06-.94-.94-2.06-.94 2.06-2.06.94zm-11 1L8.5 8.5l.94-2.06 2.06-.94-2.06-.94L8.5 2.5l-.94 2.06-2.06.94zm10 10l.94 2.06.94-2.06 2.06-.94-2.06-.94-.94-2.06-.94 2.06-2.06.94z\"/><path d=\"M17.41 7.96l-1.37-1.37c-.4-.4-.92-.59-1.43-.59-.52 0-1.04.2-1.43.59L10.3 9.45l-7.72 7.72c-.78.78-.78 2.05 0 2.83L4 21.41c.39.39.9.59 1.41.59.51 0 1.02-.2 1.41-.59l7.78-7.78 2.81-2.81c.8-.78.8-2.07 0-2.86zM5.41 20L4 18.59l7.72-7.72 1.47 1.35L5.41 20z\"/>\n",
              "  </svg>\n",
              "      </button>\n",
              "      \n",
              "  <style>\n",
              "    .colab-df-container {\n",
              "      display:flex;\n",
              "      flex-wrap:wrap;\n",
              "      gap: 12px;\n",
              "    }\n",
              "\n",
              "    .colab-df-convert {\n",
              "      background-color: #E8F0FE;\n",
              "      border: none;\n",
              "      border-radius: 50%;\n",
              "      cursor: pointer;\n",
              "      display: none;\n",
              "      fill: #1967D2;\n",
              "      height: 32px;\n",
              "      padding: 0 0 0 0;\n",
              "      width: 32px;\n",
              "    }\n",
              "\n",
              "    .colab-df-convert:hover {\n",
              "      background-color: #E2EBFA;\n",
              "      box-shadow: 0px 1px 2px rgba(60, 64, 67, 0.3), 0px 1px 3px 1px rgba(60, 64, 67, 0.15);\n",
              "      fill: #174EA6;\n",
              "    }\n",
              "\n",
              "    [theme=dark] .colab-df-convert {\n",
              "      background-color: #3B4455;\n",
              "      fill: #D2E3FC;\n",
              "    }\n",
              "\n",
              "    [theme=dark] .colab-df-convert:hover {\n",
              "      background-color: #434B5C;\n",
              "      box-shadow: 0px 1px 3px 1px rgba(0, 0, 0, 0.15);\n",
              "      filter: drop-shadow(0px 1px 2px rgba(0, 0, 0, 0.3));\n",
              "      fill: #FFFFFF;\n",
              "    }\n",
              "  </style>\n",
              "\n",
              "      <script>\n",
              "        const buttonEl =\n",
              "          document.querySelector('#df-c45fec60-73b3-4753-a6d1-b80dcfbb6a93 button.colab-df-convert');\n",
              "        buttonEl.style.display =\n",
              "          google.colab.kernel.accessAllowed ? 'block' : 'none';\n",
              "\n",
              "        async function convertToInteractive(key) {\n",
              "          const element = document.querySelector('#df-c45fec60-73b3-4753-a6d1-b80dcfbb6a93');\n",
              "          const dataTable =\n",
              "            await google.colab.kernel.invokeFunction('convertToInteractive',\n",
              "                                                     [key], {});\n",
              "          if (!dataTable) return;\n",
              "\n",
              "          const docLinkHtml = 'Like what you see? Visit the ' +\n",
              "            '<a target=\"_blank\" href=https://colab.research.google.com/notebooks/data_table.ipynb>data table notebook</a>'\n",
              "            + ' to learn more about interactive tables.';\n",
              "          element.innerHTML = '';\n",
              "          dataTable['output_type'] = 'display_data';\n",
              "          await google.colab.output.renderOutput(dataTable, element);\n",
              "          const docLink = document.createElement('div');\n",
              "          docLink.innerHTML = docLinkHtml;\n",
              "          element.appendChild(docLink);\n",
              "        }\n",
              "      </script>\n",
              "    </div>\n",
              "  </div>\n",
              "  "
            ]
          },
          "metadata": {},
          "execution_count": 238
        }
      ]
    },
    {
      "cell_type": "markdown",
      "source": [
        "# Data analysis: EDA"
      ],
      "metadata": {
        "id": "aACox0nwSBNA"
      }
    },
    {
      "cell_type": "markdown",
      "source": [
        "In this part:\n",
        "1. Explore variables\n",
        "2. Analyzing numerical and categorical variables\n",
        "3. Looking for relationship between features"
      ],
      "metadata": {
        "id": "_jFTdNzdSZtW"
      }
    },
    {
      "cell_type": "code",
      "source": [
        "train_data.shape"
      ],
      "metadata": {
        "colab": {
          "base_uri": "https://localhost:8080/"
        },
        "id": "lLlH1QDddwvg",
        "outputId": "88530694-ad69-4efa-ee83-9fdf2b07a389"
      },
      "execution_count": 239,
      "outputs": [
        {
          "output_type": "execute_result",
          "data": {
            "text/plain": [
              "(20000, 11)"
            ]
          },
          "metadata": {},
          "execution_count": 239
        }
      ]
    },
    {
      "cell_type": "code",
      "source": [
        "train_data.info()"
      ],
      "metadata": {
        "colab": {
          "base_uri": "https://localhost:8080/"
        },
        "id": "GIZbNpe0dqej",
        "outputId": "a5b2aa79-63be-4911-a823-9f21d359c61e"
      },
      "execution_count": 240,
      "outputs": [
        {
          "output_type": "stream",
          "name": "stdout",
          "text": [
            "<class 'pandas.core.frame.DataFrame'>\n",
            "Int64Index: 20000 entries, 1 to 20000\n",
            "Data columns (total 11 columns):\n",
            " #   Column            Non-Null Count  Dtype  \n",
            "---  ------            --------------  -----  \n",
            " 0   airline           20000 non-null  object \n",
            " 1   flight            20000 non-null  object \n",
            " 2   source_city       20000 non-null  object \n",
            " 3   departure_time    20000 non-null  object \n",
            " 4   stops             20000 non-null  object \n",
            " 5   arrival_time      20000 non-null  object \n",
            " 6   destination_city  20000 non-null  object \n",
            " 7   class             20000 non-null  object \n",
            " 8   duration          20000 non-null  float64\n",
            " 9   days_left         20000 non-null  int64  \n",
            " 10  price             20000 non-null  int64  \n",
            "dtypes: float64(1), int64(2), object(8)\n",
            "memory usage: 1.8+ MB\n"
          ]
        }
      ]
    },
    {
      "cell_type": "code",
      "source": [
        "train_data.describe()"
      ],
      "metadata": {
        "colab": {
          "base_uri": "https://localhost:8080/",
          "height": 367
        },
        "id": "jjj_pn7CdzDK",
        "outputId": "3e06a9b3-3e54-47ae-9515-fdc7c44d0d91"
      },
      "execution_count": 241,
      "outputs": [
        {
          "output_type": "execute_result",
          "data": {
            "text/plain": [
              "           duration     days_left          price\n",
              "count  20000.000000  20000.000000   20000.000000\n",
              "mean      12.177627     25.924150   20960.281700\n",
              "std        7.157944     13.624874   22775.459535\n",
              "min        0.830000      1.000000    1105.000000\n",
              "25%        6.830000     14.000000    4783.000000\n",
              "50%       11.250000     26.000000    7425.000000\n",
              "75%       16.080000     38.000000   42521.000000\n",
              "max       38.580000     49.000000  114523.000000"
            ],
            "text/html": [
              "\n",
              "  <div id=\"df-819254de-22b8-44fc-8931-3ff25310b9c1\">\n",
              "    <div class=\"colab-df-container\">\n",
              "      <div>\n",
              "<style scoped>\n",
              "    .dataframe tbody tr th:only-of-type {\n",
              "        vertical-align: middle;\n",
              "    }\n",
              "\n",
              "    .dataframe tbody tr th {\n",
              "        vertical-align: top;\n",
              "    }\n",
              "\n",
              "    .dataframe thead th {\n",
              "        text-align: right;\n",
              "    }\n",
              "</style>\n",
              "<table border=\"1\" class=\"dataframe\">\n",
              "  <thead>\n",
              "    <tr style=\"text-align: right;\">\n",
              "      <th></th>\n",
              "      <th>duration</th>\n",
              "      <th>days_left</th>\n",
              "      <th>price</th>\n",
              "    </tr>\n",
              "  </thead>\n",
              "  <tbody>\n",
              "    <tr>\n",
              "      <th>count</th>\n",
              "      <td>20000.000000</td>\n",
              "      <td>20000.000000</td>\n",
              "      <td>20000.000000</td>\n",
              "    </tr>\n",
              "    <tr>\n",
              "      <th>mean</th>\n",
              "      <td>12.177627</td>\n",
              "      <td>25.924150</td>\n",
              "      <td>20960.281700</td>\n",
              "    </tr>\n",
              "    <tr>\n",
              "      <th>std</th>\n",
              "      <td>7.157944</td>\n",
              "      <td>13.624874</td>\n",
              "      <td>22775.459535</td>\n",
              "    </tr>\n",
              "    <tr>\n",
              "      <th>min</th>\n",
              "      <td>0.830000</td>\n",
              "      <td>1.000000</td>\n",
              "      <td>1105.000000</td>\n",
              "    </tr>\n",
              "    <tr>\n",
              "      <th>25%</th>\n",
              "      <td>6.830000</td>\n",
              "      <td>14.000000</td>\n",
              "      <td>4783.000000</td>\n",
              "    </tr>\n",
              "    <tr>\n",
              "      <th>50%</th>\n",
              "      <td>11.250000</td>\n",
              "      <td>26.000000</td>\n",
              "      <td>7425.000000</td>\n",
              "    </tr>\n",
              "    <tr>\n",
              "      <th>75%</th>\n",
              "      <td>16.080000</td>\n",
              "      <td>38.000000</td>\n",
              "      <td>42521.000000</td>\n",
              "    </tr>\n",
              "    <tr>\n",
              "      <th>max</th>\n",
              "      <td>38.580000</td>\n",
              "      <td>49.000000</td>\n",
              "      <td>114523.000000</td>\n",
              "    </tr>\n",
              "  </tbody>\n",
              "</table>\n",
              "</div>\n",
              "      <button class=\"colab-df-convert\" onclick=\"convertToInteractive('df-819254de-22b8-44fc-8931-3ff25310b9c1')\"\n",
              "              title=\"Convert this dataframe to an interactive table.\"\n",
              "              style=\"display:none;\">\n",
              "        \n",
              "  <svg xmlns=\"http://www.w3.org/2000/svg\" height=\"24px\"viewBox=\"0 0 24 24\"\n",
              "       width=\"24px\">\n",
              "    <path d=\"M0 0h24v24H0V0z\" fill=\"none\"/>\n",
              "    <path d=\"M18.56 5.44l.94 2.06.94-2.06 2.06-.94-2.06-.94-.94-2.06-.94 2.06-2.06.94zm-11 1L8.5 8.5l.94-2.06 2.06-.94-2.06-.94L8.5 2.5l-.94 2.06-2.06.94zm10 10l.94 2.06.94-2.06 2.06-.94-2.06-.94-.94-2.06-.94 2.06-2.06.94z\"/><path d=\"M17.41 7.96l-1.37-1.37c-.4-.4-.92-.59-1.43-.59-.52 0-1.04.2-1.43.59L10.3 9.45l-7.72 7.72c-.78.78-.78 2.05 0 2.83L4 21.41c.39.39.9.59 1.41.59.51 0 1.02-.2 1.41-.59l7.78-7.78 2.81-2.81c.8-.78.8-2.07 0-2.86zM5.41 20L4 18.59l7.72-7.72 1.47 1.35L5.41 20z\"/>\n",
              "  </svg>\n",
              "      </button>\n",
              "      \n",
              "  <style>\n",
              "    .colab-df-container {\n",
              "      display:flex;\n",
              "      flex-wrap:wrap;\n",
              "      gap: 12px;\n",
              "    }\n",
              "\n",
              "    .colab-df-convert {\n",
              "      background-color: #E8F0FE;\n",
              "      border: none;\n",
              "      border-radius: 50%;\n",
              "      cursor: pointer;\n",
              "      display: none;\n",
              "      fill: #1967D2;\n",
              "      height: 32px;\n",
              "      padding: 0 0 0 0;\n",
              "      width: 32px;\n",
              "    }\n",
              "\n",
              "    .colab-df-convert:hover {\n",
              "      background-color: #E2EBFA;\n",
              "      box-shadow: 0px 1px 2px rgba(60, 64, 67, 0.3), 0px 1px 3px 1px rgba(60, 64, 67, 0.15);\n",
              "      fill: #174EA6;\n",
              "    }\n",
              "\n",
              "    [theme=dark] .colab-df-convert {\n",
              "      background-color: #3B4455;\n",
              "      fill: #D2E3FC;\n",
              "    }\n",
              "\n",
              "    [theme=dark] .colab-df-convert:hover {\n",
              "      background-color: #434B5C;\n",
              "      box-shadow: 0px 1px 3px 1px rgba(0, 0, 0, 0.15);\n",
              "      filter: drop-shadow(0px 1px 2px rgba(0, 0, 0, 0.3));\n",
              "      fill: #FFFFFF;\n",
              "    }\n",
              "  </style>\n",
              "\n",
              "      <script>\n",
              "        const buttonEl =\n",
              "          document.querySelector('#df-819254de-22b8-44fc-8931-3ff25310b9c1 button.colab-df-convert');\n",
              "        buttonEl.style.display =\n",
              "          google.colab.kernel.accessAllowed ? 'block' : 'none';\n",
              "\n",
              "        async function convertToInteractive(key) {\n",
              "          const element = document.querySelector('#df-819254de-22b8-44fc-8931-3ff25310b9c1');\n",
              "          const dataTable =\n",
              "            await google.colab.kernel.invokeFunction('convertToInteractive',\n",
              "                                                     [key], {});\n",
              "          if (!dataTable) return;\n",
              "\n",
              "          const docLinkHtml = 'Like what you see? Visit the ' +\n",
              "            '<a target=\"_blank\" href=https://colab.research.google.com/notebooks/data_table.ipynb>data table notebook</a>'\n",
              "            + ' to learn more about interactive tables.';\n",
              "          element.innerHTML = '';\n",
              "          dataTable['output_type'] = 'display_data';\n",
              "          await google.colab.output.renderOutput(dataTable, element);\n",
              "          const docLink = document.createElement('div');\n",
              "          docLink.innerHTML = docLinkHtml;\n",
              "          element.appendChild(docLink);\n",
              "        }\n",
              "      </script>\n",
              "    </div>\n",
              "  </div>\n",
              "  "
            ]
          },
          "metadata": {},
          "execution_count": 241
        }
      ]
    },
    {
      "cell_type": "code",
      "source": [
        "airline_names = train_data.airline.value_counts().index\n",
        "airline_val = train_data.airline.value_counts().values\n"
      ],
      "metadata": {
        "id": "uNy-CDZVJk8K"
      },
      "execution_count": 242,
      "outputs": []
    },
    {
      "cell_type": "code",
      "source": [
        "plt.pie(airline_val,labels=airline_names,autopct='%1.2f%%',radius=2)\n",
        "plt.show()"
      ],
      "metadata": {
        "colab": {
          "base_uri": "https://localhost:8080/",
          "height": 417
        },
        "id": "XuZIrwkiJk_B",
        "outputId": "74a3ba65-bb99-41c0-9ea4-00ef0df21750"
      },
      "execution_count": 243,
      "outputs": [
        {
          "output_type": "display_data",
          "data": {
            "text/plain": [
              "<Figure size 432x288 with 1 Axes>"
            ],
            "image/png": "[encoded data removed]"
          },
          "metadata": {}
        }
      ]
    },
    {
      "cell_type": "code",
      "source": [
        "class_names = train_data['class'].value_counts().index\n",
        "class_val = train_data['class'].value_counts().values\n"
      ],
      "metadata": {
        "id": "dNgq4Vc_JlBs"
      },
      "execution_count": 244,
      "outputs": []
    },
    {
      "cell_type": "code",
      "source": [
        "plt.pie(class_val,labels=class_names,autopct='%1.2f%%')\n",
        "plt.show()"
      ],
      "metadata": {
        "colab": {
          "base_uri": "https://localhost:8080/",
          "height": 248
        },
        "id": "GNCOEbfPJlD2",
        "outputId": "7182a0e5-d92a-4ebc-b793-2df242ebe771"
      },
      "execution_count": 245,
      "outputs": [
        {
          "output_type": "display_data",
          "data": {
            "text/plain": [
              "<Figure size 432x288 with 1 Axes>"
            ],
            "image/png": "[encoded data removed]"
          },
          "metadata": {}
        }
      ]
    },
    {
      "cell_type": "code",
      "source": [
        "stops_names = train_data['stops'].value_counts().index\n",
        "stops_val = train_data['stops'].value_counts().values\n"
      ],
      "metadata": {
        "id": "IhK5u00UJlGU"
      },
      "execution_count": 246,
      "outputs": []
    },
    {
      "cell_type": "code",
      "source": [
        "plt.pie(stops_val,labels=stops_names,autopct='%1.2f%%')\n",
        "plt.show()"
      ],
      "metadata": {
        "colab": {
          "base_uri": "https://localhost:8080/",
          "height": 248
        },
        "id": "FySgZeV-Kzry",
        "outputId": "9900b883-ff48-47f2-a27d-51cff913b3c0"
      },
      "execution_count": 247,
      "outputs": [
        {
          "output_type": "display_data",
          "data": {
            "text/plain": [
              "<Figure size 432x288 with 1 Axes>"
            ],
            "image/png": "[encoded data removed]"
          },
          "metadata": {}
        }
      ]
    },
    {
      "cell_type": "code",
      "source": [
        "train_data['class'].value_counts()"
      ],
      "metadata": {
        "colab": {
          "base_uri": "https://localhost:8080/"
        },
        "id": "tfXxOw2yd4jR",
        "outputId": "aae47304-0d39-4322-d34e-c2a8c5f1bd40"
      },
      "execution_count": 248,
      "outputs": [
        {
          "output_type": "execute_result",
          "data": {
            "text/plain": [
              "Economy     13753\n",
              "Business     6247\n",
              "Name: class, dtype: int64"
            ]
          },
          "metadata": {},
          "execution_count": 248
        }
      ]
    },
    {
      "cell_type": "code",
      "source": [
        "train_data['source_city'].value_counts()"
      ],
      "metadata": {
        "colab": {
          "base_uri": "https://localhost:8080/"
        },
        "id": "bDX10Rj9ev2D",
        "outputId": "13a113cc-8e4a-4a8e-d271-596d5060b421"
      },
      "execution_count": 249,
      "outputs": [
        {
          "output_type": "execute_result",
          "data": {
            "text/plain": [
              "Mumbai       4068\n",
              "Delhi        4022\n",
              "Bangalore    3486\n",
              "Kolkata      3092\n",
              "Hyderabad    2748\n",
              "Chennai      2584\n",
              "Name: source_city, dtype: int64"
            ]
          },
          "metadata": {},
          "execution_count": 249
        }
      ]
    },
    {
      "cell_type": "code",
      "source": [
        "train_data['destination_city'].value_counts()"
      ],
      "metadata": {
        "colab": {
          "base_uri": "https://localhost:8080/"
        },
        "id": "5bRBPS_JebQn",
        "outputId": "29af784c-fe04-4e04-fcbf-4864a5cf85cc"
      },
      "execution_count": 250,
      "outputs": [
        {
          "output_type": "execute_result",
          "data": {
            "text/plain": [
              "Mumbai       3918\n",
              "Delhi        3825\n",
              "Bangalore    3425\n",
              "Kolkata      3323\n",
              "Hyderabad    2814\n",
              "Chennai      2695\n",
              "Name: destination_city, dtype: int64"
            ]
          },
          "metadata": {},
          "execution_count": 250
        }
      ]
    },
    {
      "cell_type": "code",
      "source": [
        "train_data['Trip']=train_data['source_city']+\"_\"+train_data['destination_city']"
      ],
      "metadata": {
        "id": "MGotwdkzbKy2"
      },
      "execution_count": 251,
      "outputs": []
    },
    {
      "cell_type": "code",
      "source": [
        "train_data['Trip'].unique()"
      ],
      "metadata": {
        "colab": {
          "base_uri": "https://localhost:8080/"
        },
        "id": "6hJNCXIfbgpa",
        "outputId": "05f027a6-f86a-423e-876d-df2ab63366cc"
      },
      "execution_count": 252,
      "outputs": [
        {
          "output_type": "execute_result",
          "data": {
            "text/plain": [
              "array(['Bangalore_Mumbai', 'Hyderabad_Kolkata', 'Bangalore_Delhi',\n",
              "       'Kolkata_Hyderabad', 'Chennai_Mumbai', 'Delhi_Chennai',\n",
              "       'Bangalore_Hyderabad', 'Bangalore_Kolkata', 'Kolkata_Delhi',\n",
              "       'Hyderabad_Delhi', 'Mumbai_Delhi', 'Mumbai_Kolkata',\n",
              "       'Mumbai_Bangalore', 'Delhi_Mumbai', 'Mumbai_Hyderabad',\n",
              "       'Delhi_Bangalore', 'Kolkata_Bangalore', 'Delhi_Hyderabad',\n",
              "       'Chennai_Bangalore', 'Kolkata_Mumbai', 'Hyderabad_Chennai',\n",
              "       'Kolkata_Chennai', 'Hyderabad_Mumbai', 'Mumbai_Chennai',\n",
              "       'Hyderabad_Bangalore', 'Chennai_Kolkata', 'Bangalore_Chennai',\n",
              "       'Delhi_Kolkata', 'Chennai_Delhi', 'Chennai_Hyderabad'],\n",
              "      dtype=object)"
            ]
          },
          "metadata": {},
          "execution_count": 252
        }
      ]
    },
    {
      "cell_type": "code",
      "source": [
        "train_data['Trip'].value_counts()"
      ],
      "metadata": {
        "colab": {
          "base_uri": "https://localhost:8080/"
        },
        "id": "EWJqRcfkL_qT",
        "outputId": "73a3b97d-dbfe-4549-b2b6-2722d98622b5"
      },
      "execution_count": 253,
      "outputs": [
        {
          "output_type": "execute_result",
          "data": {
            "text/plain": [
              "Mumbai_Delhi           1002\n",
              "Delhi_Mumbai            981\n",
              "Mumbai_Bangalore        920\n",
              "Bangalore_Mumbai        909\n",
              "Delhi_Bangalore         885\n",
              "Bangalore_Delhi         884\n",
              "Mumbai_Kolkata          824\n",
              "Delhi_Kolkata           808\n",
              "Kolkata_Mumbai          774\n",
              "Delhi_Chennai           730\n",
              "Kolkata_Delhi           711\n",
              "Mumbai_Hyderabad        704\n",
              "Bangalore_Kolkata       669\n",
              "Kolkata_Bangalore       663\n",
              "Hyderabad_Mumbai        659\n",
              "Chennai_Delhi           652\n",
              "Mumbai_Chennai          618\n",
              "Delhi_Hyderabad         618\n",
              "Chennai_Mumbai          595\n",
              "Hyderabad_Delhi         576\n",
              "Bangalore_Hyderabad     568\n",
              "Hyderabad_Bangalore     539\n",
              "Hyderabad_Kolkata       535\n",
              "Kolkata_Hyderabad       492\n",
              "Chennai_Kolkata         487\n",
              "Bangalore_Chennai       456\n",
              "Kolkata_Chennai         452\n",
              "Hyderabad_Chennai       439\n",
              "Chennai_Hyderabad       432\n",
              "Chennai_Bangalore       418\n",
              "Name: Trip, dtype: int64"
            ]
          },
          "metadata": {},
          "execution_count": 253
        }
      ]
    },
    {
      "cell_type": "code",
      "source": [
        "# Top ten trips\n",
        "\n",
        "trips_names = train_data['Trip'].value_counts().index\n",
        "trips_val = train_data['Trip'].value_counts().values\n",
        "plt.pie(trips_val[:10],labels=trips_names[:10],autopct='%1.2f%%',radius=2)\n",
        "plt.show()"
      ],
      "metadata": {
        "colab": {
          "base_uri": "https://localhost:8080/",
          "height": 417
        },
        "id": "5GqCmcpZLWfz",
        "outputId": "ae31078e-bf8e-44b0-8787-9cb281ec002a"
      },
      "execution_count": 254,
      "outputs": [
        {
          "output_type": "display_data",
          "data": {
            "text/plain": [
              "<Figure size 432x288 with 1 Axes>"
            ],
            "image/png": "[encoded data removed]"
          },
          "metadata": {}
        }
      ]
    },
    {
      "cell_type": "code",
      "source": [
        "train_data['Trip']= train_data['Trip'].replace('Delhi_Mumbai','Mumbai_Delhi')\n",
        "train_data['Trip']= train_data['Trip'].replace('Delhi_Bangalore','Bangalore_Delhi')\n",
        "train_data['Trip']= train_data['Trip'].replace('Bangalore_Mumbai','Mumbai_Bangalore')\n",
        "train_data['Trip']= train_data['Trip'].replace('Mumbai_Kolkata','Kolkata_Mumbai')\n",
        "train_data['Trip']= train_data['Trip'].replace('Delhi_Kolkata','Kolkata_Delhi')\n",
        "train_data['Trip']= train_data['Trip'].replace('Delhi_Chennai','Chennai_Delhi')\n",
        "train_data['Trip']= train_data['Trip'].replace('Mumbai_Hyderabad','Hyderabad_Mumbai')\n",
        "train_data['Trip']= train_data['Trip'].replace('Mumbai_Chennai','Chennai_Mumbai')\n",
        "train_data['Trip']= train_data['Trip'].replace('Bangalore_Kolkata','Kolkata_Bangalore')\n",
        "train_data['Trip']= train_data['Trip'].replace('Delhi_Hyderabad','Hyderabad_Delhi')\n",
        "train_data['Trip']= train_data['Trip'].replace('Bangalore_Hyderabad','Hyderabad_Bangalore')\n",
        "train_data['Trip']= train_data['Trip'].replace('Hyderabad_Kolkata','Kolkata_Hyderabad')\n",
        "train_data['Trip']= train_data['Trip'].replace('Chennai_Kolkata','Kolkata_Chennai')\n",
        "train_data['Trip']= train_data['Trip'].replace('Chennai_Bangalore','Bangalore_Chennai')\n",
        "train_data['Trip']= train_data['Trip'].replace('Hyderabad_Chennai','Chennai_Hyderabad') "
      ],
      "metadata": {
        "id": "VHaYgX19QEUe"
      },
      "execution_count": 255,
      "outputs": []
    },
    {
      "cell_type": "code",
      "source": [
        "train_data['arrival_time'].value_counts()"
      ],
      "metadata": {
        "colab": {
          "base_uri": "https://localhost:8080/"
        },
        "id": "CPfTKRceeRJN",
        "outputId": "78f3a308-3c06-4c97-c2a7-2f5b36b55e52"
      },
      "execution_count": 256,
      "outputs": [
        {
          "output_type": "execute_result",
          "data": {
            "text/plain": [
              "Night            6142\n",
              "Evening          5316\n",
              "Morning          4086\n",
              "Afternoon        2536\n",
              "Early_Morning    1004\n",
              "Late_Night        916\n",
              "Name: arrival_time, dtype: int64"
            ]
          },
          "metadata": {},
          "execution_count": 256
        }
      ]
    },
    {
      "cell_type": "code",
      "source": [
        "train_data['departure_time'].value_counts()"
      ],
      "metadata": {
        "colab": {
          "base_uri": "https://localhost:8080/"
        },
        "id": "VgbTcXe9ep2N",
        "outputId": "c0563374-7eed-4147-de06-f9db1030c5ab"
      },
      "execution_count": 257,
      "outputs": [
        {
          "output_type": "execute_result",
          "data": {
            "text/plain": [
              "Morning          4738\n",
              "Early_Morning    4432\n",
              "Evening          4341\n",
              "Night            3231\n",
              "Afternoon        3166\n",
              "Late_Night         92\n",
              "Name: departure_time, dtype: int64"
            ]
          },
          "metadata": {},
          "execution_count": 257
        }
      ]
    },
    {
      "cell_type": "code",
      "source": [
        "train_data['Time']=train_data['departure_time']+\"_\"+train_data['arrival_time']\n",
        "train_data.head(1)"
      ],
      "metadata": {
        "colab": {
          "base_uri": "https://localhost:8080/",
          "height": 134
        },
        "id": "pnQJVmCGQTrd",
        "outputId": "83fb7b93-ca1a-4cae-d2e9-44b90fbc3530"
      },
      "execution_count": 258,
      "outputs": [
        {
          "output_type": "execute_result",
          "data": {
            "text/plain": [
              "    airline  flight source_city departure_time stops arrival_time  \\\n",
              "id                                                                  \n",
              "1   Vistara  UK-810   Bangalore  Early_Morning   one        Night   \n",
              "\n",
              "   destination_city    class  duration  days_left  price              Trip  \\\n",
              "id                                                                           \n",
              "1            Mumbai  Economy     14.25         21   7212  Mumbai_Bangalore   \n",
              "\n",
              "                   Time  \n",
              "id                       \n",
              "1   Early_Morning_Night  "
            ],
            "text/html": [
              "\n",
              "  <div id=\"df-c91a5a3f-26d9-44b1-819b-d86ed02b3f97\">\n",
              "    <div class=\"colab-df-container\">\n",
              "      <div>\n",
              "<style scoped>\n",
              "    .dataframe tbody tr th:only-of-type {\n",
              "        vertical-align: middle;\n",
              "    }\n",
              "\n",
              "    .dataframe tbody tr th {\n",
              "        vertical-align: top;\n",
              "    }\n",
              "\n",
              "    .dataframe thead th {\n",
              "        text-align: right;\n",
              "    }\n",
              "</style>\n",
              "<table border=\"1\" class=\"dataframe\">\n",
              "  <thead>\n",
              "    <tr style=\"text-align: right;\">\n",
              "      <th></th>\n",
              "      <th>airline</th>\n",
              "      <th>flight</th>\n",
              "      <th>source_city</th>\n",
              "      <th>departure_time</th>\n",
              "      <th>stops</th>\n",
              "      <th>arrival_time</th>\n",
              "      <th>destination_city</th>\n",
              "      <th>class</th>\n",
              "      <th>duration</th>\n",
              "      <th>days_left</th>\n",
              "      <th>price</th>\n",
              "      <th>Trip</th>\n",
              "      <th>Time</th>\n",
              "    </tr>\n",
              "    <tr>\n",
              "      <th>id</th>\n",
              "      <th></th>\n",
              "      <th></th>\n",
              "      <th></th>\n",
              "      <th></th>\n",
              "      <th></th>\n",
              "      <th></th>\n",
              "      <th></th>\n",
              "      <th></th>\n",
              "      <th></th>\n",
              "      <th></th>\n",
              "      <th></th>\n",
              "      <th></th>\n",
              "      <th></th>\n",
              "    </tr>\n",
              "  </thead>\n",
              "  <tbody>\n",
              "    <tr>\n",
              "      <th>1</th>\n",
              "      <td>Vistara</td>\n",
              "      <td>UK-810</td>\n",
              "      <td>Bangalore</td>\n",
              "      <td>Early_Morning</td>\n",
              "      <td>one</td>\n",
              "      <td>Night</td>\n",
              "      <td>Mumbai</td>\n",
              "      <td>Economy</td>\n",
              "      <td>14.25</td>\n",
              "      <td>21</td>\n",
              "      <td>7212</td>\n",
              "      <td>Mumbai_Bangalore</td>\n",
              "      <td>Early_Morning_Night</td>\n",
              "    </tr>\n",
              "  </tbody>\n",
              "</table>\n",
              "</div>\n",
              "      <button class=\"colab-df-convert\" onclick=\"convertToInteractive('df-c91a5a3f-26d9-44b1-819b-d86ed02b3f97')\"\n",
              "              title=\"Convert this dataframe to an interactive table.\"\n",
              "              style=\"display:none;\">\n",
              "        \n",
              "  <svg xmlns=\"http://www.w3.org/2000/svg\" height=\"24px\"viewBox=\"0 0 24 24\"\n",
              "       width=\"24px\">\n",
              "    <path d=\"M0 0h24v24H0V0z\" fill=\"none\"/>\n",
              "    <path d=\"M18.56 5.44l.94 2.06.94-2.06 2.06-.94-2.06-.94-.94-2.06-.94 2.06-2.06.94zm-11 1L8.5 8.5l.94-2.06 2.06-.94-2.06-.94L8.5 2.5l-.94 2.06-2.06.94zm10 10l.94 2.06.94-2.06 2.06-.94-2.06-.94-.94-2.06-.94 2.06-2.06.94z\"/><path d=\"M17.41 7.96l-1.37-1.37c-.4-.4-.92-.59-1.43-.59-.52 0-1.04.2-1.43.59L10.3 9.45l-7.72 7.72c-.78.78-.78 2.05 0 2.83L4 21.41c.39.39.9.59 1.41.59.51 0 1.02-.2 1.41-.59l7.78-7.78 2.81-2.81c.8-.78.8-2.07 0-2.86zM5.41 20L4 18.59l7.72-7.72 1.47 1.35L5.41 20z\"/>\n",
              "  </svg>\n",
              "      </button>\n",
              "      \n",
              "  <style>\n",
              "    .colab-df-container {\n",
              "      display:flex;\n",
              "      flex-wrap:wrap;\n",
              "      gap: 12px;\n",
              "    }\n",
              "\n",
              "    .colab-df-convert {\n",
              "      background-color: #E8F0FE;\n",
              "      border: none;\n",
              "      border-radius: 50%;\n",
              "      cursor: pointer;\n",
              "      display: none;\n",
              "      fill: #1967D2;\n",
              "      height: 32px;\n",
              "      padding: 0 0 0 0;\n",
              "      width: 32px;\n",
              "    }\n",
              "\n",
              "    .colab-df-convert:hover {\n",
              "      background-color: #E2EBFA;\n",
              "      box-shadow: 0px 1px 2px rgba(60, 64, 67, 0.3), 0px 1px 3px 1px rgba(60, 64, 67, 0.15);\n",
              "      fill: #174EA6;\n",
              "    }\n",
              "\n",
              "    [theme=dark] .colab-df-convert {\n",
              "      background-color: #3B4455;\n",
              "      fill: #D2E3FC;\n",
              "    }\n",
              "\n",
              "    [theme=dark] .colab-df-convert:hover {\n",
              "      background-color: #434B5C;\n",
              "      box-shadow: 0px 1px 3px 1px rgba(0, 0, 0, 0.15);\n",
              "      filter: drop-shadow(0px 1px 2px rgba(0, 0, 0, 0.3));\n",
              "      fill: #FFFFFF;\n",
              "    }\n",
              "  </style>\n",
              "\n",
              "      <script>\n",
              "        const buttonEl =\n",
              "          document.querySelector('#df-c91a5a3f-26d9-44b1-819b-d86ed02b3f97 button.colab-df-convert');\n",
              "        buttonEl.style.display =\n",
              "          google.colab.kernel.accessAllowed ? 'block' : 'none';\n",
              "\n",
              "        async function convertToInteractive(key) {\n",
              "          const element = document.querySelector('#df-c91a5a3f-26d9-44b1-819b-d86ed02b3f97');\n",
              "          const dataTable =\n",
              "            await google.colab.kernel.invokeFunction('convertToInteractive',\n",
              "                                                     [key], {});\n",
              "          if (!dataTable) return;\n",
              "\n",
              "          const docLinkHtml = 'Like what you see? Visit the ' +\n",
              "            '<a target=\"_blank\" href=https://colab.research.google.com/notebooks/data_table.ipynb>data table notebook</a>'\n",
              "            + ' to learn more about interactive tables.';\n",
              "          element.innerHTML = '';\n",
              "          dataTable['output_type'] = 'display_data';\n",
              "          await google.colab.output.renderOutput(dataTable, element);\n",
              "          const docLink = document.createElement('div');\n",
              "          docLink.innerHTML = docLinkHtml;\n",
              "          element.appendChild(docLink);\n",
              "        }\n",
              "      </script>\n",
              "    </div>\n",
              "  </div>\n",
              "  "
            ]
          },
          "metadata": {},
          "execution_count": 258
        }
      ]
    },
    {
      "cell_type": "code",
      "source": [
        "train_data['airline_class']=train_data['airline']+\"_\"+train_data['class']\n",
        "train_data.head(1)"
      ],
      "metadata": {
        "colab": {
          "base_uri": "https://localhost:8080/",
          "height": 198
        },
        "id": "vc94x7-kTN1x",
        "outputId": "1024b6c8-5413-4aef-e3e5-750d34956e95"
      },
      "execution_count": 259,
      "outputs": [
        {
          "output_type": "execute_result",
          "data": {
            "text/plain": [
              "    airline  flight source_city departure_time stops arrival_time  \\\n",
              "id                                                                  \n",
              "1   Vistara  UK-810   Bangalore  Early_Morning   one        Night   \n",
              "\n",
              "   destination_city    class  duration  days_left  price              Trip  \\\n",
              "id                                                                           \n",
              "1            Mumbai  Economy     14.25         21   7212  Mumbai_Bangalore   \n",
              "\n",
              "                   Time    airline_class  \n",
              "id                                        \n",
              "1   Early_Morning_Night  Vistara_Economy  "
            ],
            "text/html": [
              "\n",
              "  <div id=\"df-6994ed17-bf46-40cc-94af-8f8675e7f817\">\n",
              "    <div class=\"colab-df-container\">\n",
              "      <div>\n",
              "<style scoped>\n",
              "    .dataframe tbody tr th:only-of-type {\n",
              "        vertical-align: middle;\n",
              "    }\n",
              "\n",
              "    .dataframe tbody tr th {\n",
              "        vertical-align: top;\n",
              "    }\n",
              "\n",
              "    .dataframe thead th {\n",
              "        text-align: right;\n",
              "    }\n",
              "</style>\n",
              "<table border=\"1\" class=\"dataframe\">\n",
              "  <thead>\n",
              "    <tr style=\"text-align: right;\">\n",
              "      <th></th>\n",
              "      <th>airline</th>\n",
              "      <th>flight</th>\n",
              "      <th>source_city</th>\n",
              "      <th>departure_time</th>\n",
              "      <th>stops</th>\n",
              "      <th>arrival_time</th>\n",
              "      <th>destination_city</th>\n",
              "      <th>class</th>\n",
              "      <th>duration</th>\n",
              "      <th>days_left</th>\n",
              "      <th>price</th>\n",
              "      <th>Trip</th>\n",
              "      <th>Time</th>\n",
              "      <th>airline_class</th>\n",
              "    </tr>\n",
              "    <tr>\n",
              "      <th>id</th>\n",
              "      <th></th>\n",
              "      <th></th>\n",
              "      <th></th>\n",
              "      <th></th>\n",
              "      <th></th>\n",
              "      <th></th>\n",
              "      <th></th>\n",
              "      <th></th>\n",
              "      <th></th>\n",
              "      <th></th>\n",
              "      <th></th>\n",
              "      <th></th>\n",
              "      <th></th>\n",
              "      <th></th>\n",
              "    </tr>\n",
              "  </thead>\n",
              "  <tbody>\n",
              "    <tr>\n",
              "      <th>1</th>\n",
              "      <td>Vistara</td>\n",
              "      <td>UK-810</td>\n",
              "      <td>Bangalore</td>\n",
              "      <td>Early_Morning</td>\n",
              "      <td>one</td>\n",
              "      <td>Night</td>\n",
              "      <td>Mumbai</td>\n",
              "      <td>Economy</td>\n",
              "      <td>14.25</td>\n",
              "      <td>21</td>\n",
              "      <td>7212</td>\n",
              "      <td>Mumbai_Bangalore</td>\n",
              "      <td>Early_Morning_Night</td>\n",
              "      <td>Vistara_Economy</td>\n",
              "    </tr>\n",
              "  </tbody>\n",
              "</table>\n",
              "</div>\n",
              "      <button class=\"colab-df-convert\" onclick=\"convertToInteractive('df-6994ed17-bf46-40cc-94af-8f8675e7f817')\"\n",
              "              title=\"Convert this dataframe to an interactive table.\"\n",
              "              style=\"display:none;\">\n",
              "        \n",
              "  <svg xmlns=\"http://www.w3.org/2000/svg\" height=\"24px\"viewBox=\"0 0 24 24\"\n",
              "       width=\"24px\">\n",
              "    <path d=\"M0 0h24v24H0V0z\" fill=\"none\"/>\n",
              "    <path d=\"M18.56 5.44l.94 2.06.94-2.06 2.06-.94-2.06-.94-.94-2.06-.94 2.06-2.06.94zm-11 1L8.5 8.5l.94-2.06 2.06-.94-2.06-.94L8.5 2.5l-.94 2.06-2.06.94zm10 10l.94 2.06.94-2.06 2.06-.94-2.06-.94-.94-2.06-.94 2.06-2.06.94z\"/><path d=\"M17.41 7.96l-1.37-1.37c-.4-.4-.92-.59-1.43-.59-.52 0-1.04.2-1.43.59L10.3 9.45l-7.72 7.72c-.78.78-.78 2.05 0 2.83L4 21.41c.39.39.9.59 1.41.59.51 0 1.02-.2 1.41-.59l7.78-7.78 2.81-2.81c.8-.78.8-2.07 0-2.86zM5.41 20L4 18.59l7.72-7.72 1.47 1.35L5.41 20z\"/>\n",
              "  </svg>\n",
              "      </button>\n",
              "      \n",
              "  <style>\n",
              "    .colab-df-container {\n",
              "      display:flex;\n",
              "      flex-wrap:wrap;\n",
              "      gap: 12px;\n",
              "    }\n",
              "\n",
              "    .colab-df-convert {\n",
              "      background-color: #E8F0FE;\n",
              "      border: none;\n",
              "      border-radius: 50%;\n",
              "      cursor: pointer;\n",
              "      display: none;\n",
              "      fill: #1967D2;\n",
              "      height: 32px;\n",
              "      padding: 0 0 0 0;\n",
              "      width: 32px;\n",
              "    }\n",
              "\n",
              "    .colab-df-convert:hover {\n",
              "      background-color: #E2EBFA;\n",
              "      box-shadow: 0px 1px 2px rgba(60, 64, 67, 0.3), 0px 1px 3px 1px rgba(60, 64, 67, 0.15);\n",
              "      fill: #174EA6;\n",
              "    }\n",
              "\n",
              "    [theme=dark] .colab-df-convert {\n",
              "      background-color: #3B4455;\n",
              "      fill: #D2E3FC;\n",
              "    }\n",
              "\n",
              "    [theme=dark] .colab-df-convert:hover {\n",
              "      background-color: #434B5C;\n",
              "      box-shadow: 0px 1px 3px 1px rgba(0, 0, 0, 0.15);\n",
              "      filter: drop-shadow(0px 1px 2px rgba(0, 0, 0, 0.3));\n",
              "      fill: #FFFFFF;\n",
              "    }\n",
              "  </style>\n",
              "\n",
              "      <script>\n",
              "        const buttonEl =\n",
              "          document.querySelector('#df-6994ed17-bf46-40cc-94af-8f8675e7f817 button.colab-df-convert');\n",
              "        buttonEl.style.display =\n",
              "          google.colab.kernel.accessAllowed ? 'block' : 'none';\n",
              "\n",
              "        async function convertToInteractive(key) {\n",
              "          const element = document.querySelector('#df-6994ed17-bf46-40cc-94af-8f8675e7f817');\n",
              "          const dataTable =\n",
              "            await google.colab.kernel.invokeFunction('convertToInteractive',\n",
              "                                                     [key], {});\n",
              "          if (!dataTable) return;\n",
              "\n",
              "          const docLinkHtml = 'Like what you see? Visit the ' +\n",
              "            '<a target=\"_blank\" href=https://colab.research.google.com/notebooks/data_table.ipynb>data table notebook</a>'\n",
              "            + ' to learn more about interactive tables.';\n",
              "          element.innerHTML = '';\n",
              "          dataTable['output_type'] = 'display_data';\n",
              "          await google.colab.output.renderOutput(dataTable, element);\n",
              "          const docLink = document.createElement('div');\n",
              "          docLink.innerHTML = docLinkHtml;\n",
              "          element.appendChild(docLink);\n",
              "        }\n",
              "      </script>\n",
              "    </div>\n",
              "  </div>\n",
              "  "
            ]
          },
          "metadata": {},
          "execution_count": 259
        }
      ]
    },
    {
      "cell_type": "code",
      "source": [
        "train_data['stops'].value_counts()"
      ],
      "metadata": {
        "colab": {
          "base_uri": "https://localhost:8080/"
        },
        "id": "MP5bUgjSehJv",
        "outputId": "7ba03fe6-ffe4-4e5b-eb10-606a4fcc4580"
      },
      "execution_count": 260,
      "outputs": [
        {
          "output_type": "execute_result",
          "data": {
            "text/plain": [
              "one            16666\n",
              "zero            2440\n",
              "two_or_more      894\n",
              "Name: stops, dtype: int64"
            ]
          },
          "metadata": {},
          "execution_count": 260
        }
      ]
    },
    {
      "cell_type": "code",
      "source": [
        "%matplotlib inline\n",
        "train_data.hist(bins=50, figsize=(20,15))\n",
        "plt.show()"
      ],
      "metadata": {
        "colab": {
          "base_uri": "https://localhost:8080/",
          "height": 879
        },
        "id": "7XwzHjFgTo-3",
        "outputId": "df3a172a-0277-4621-dc94-620112ff3a98"
      },
      "execution_count": 261,
      "outputs": [
        {
          "output_type": "display_data",
          "data": {
            "text/plain": [
              "<Figure size 1440x1080 with 4 Axes>"
            ],
            "image/png": "[encoded data removed]"
          },
          "metadata": {
            "needs_background": "light"
          }
        }
      ]
    },
    {
      "cell_type": "code",
      "source": [
        "ax=sns.boxplot(y='price',data=train_data)"
      ],
      "metadata": {
        "colab": {
          "base_uri": "https://localhost:8080/",
          "height": 256
        },
        "id": "bCHYX02rZ6Hj",
        "outputId": "e9b7a3d7-a506-4c20-b1e4-63cc07425d2c"
      },
      "execution_count": 262,
      "outputs": [
        {
          "output_type": "display_data",
          "data": {
            "text/plain": [
              "<Figure size 432x288 with 1 Axes>"
            ],
            "image/png": "[encoded data removed]"
          },
          "metadata": {
            "needs_background": "light"
          }
        }
      ]
    },
    {
      "cell_type": "code",
      "source": [
        "ax=sns.boxplot(y='duration',data=train_data)"
      ],
      "metadata": {
        "colab": {
          "base_uri": "https://localhost:8080/",
          "height": 253
        },
        "id": "pTtDdMRnaJzF",
        "outputId": "f8c1505f-c176-4528-a0a8-93d4f14b635b"
      },
      "execution_count": 263,
      "outputs": [
        {
          "output_type": "display_data",
          "data": {
            "text/plain": [
              "<Figure size 432x288 with 1 Axes>"
            ],
            "image/png": "[encoded data removed]"
          },
          "metadata": {
            "needs_background": "light"
          }
        }
      ]
    },
    {
      "cell_type": "code",
      "source": [
        "# train_data.drop(train_data[(train_data['price'] >70000)].index, inplace=True)\n",
        "\n",
        "# train_data.drop(train_data[(train_data['duration'] >35)].index, inplace=True)\n"
      ],
      "metadata": {
        "id": "IBcb18erT9Pt"
      },
      "execution_count": 264,
      "outputs": []
    },
    {
      "cell_type": "code",
      "source": [
        "%matplotlib inline\n",
        "train_data.hist(bins=50, figsize=(20,15))\n",
        "plt.show()"
      ],
      "metadata": {
        "colab": {
          "base_uri": "https://localhost:8080/",
          "height": 879
        },
        "id": "b-WpBqC8VCUT",
        "outputId": "8e26aaae-594a-4790-8bf2-9c6ce4532d2c"
      },
      "execution_count": 265,
      "outputs": [
        {
          "output_type": "display_data",
          "data": {
            "text/plain": [
              "<Figure size 1440x1080 with 4 Axes>"
            ],
            "image/png": "[encoded data removed]"
          },
          "metadata": {
            "needs_background": "light"
          }
        }
      ]
    },
    {
      "cell_type": "code",
      "source": [
        "ax=sns.boxplot(y='price',data=train_data)"
      ],
      "metadata": {
        "colab": {
          "base_uri": "https://localhost:8080/",
          "height": 256
        },
        "id": "8iijB0MVUogO",
        "outputId": "55989eac-1082-4139-cb9a-6ce8b80b3c27"
      },
      "execution_count": 266,
      "outputs": [
        {
          "output_type": "display_data",
          "data": {
            "text/plain": [
              "<Figure size 432x288 with 1 Axes>"
            ],
            "image/png": "[encoded data removed]"
          },
          "metadata": {
            "needs_background": "light"
          }
        }
      ]
    },
    {
      "cell_type": "code",
      "source": [
        "ax=sns.boxplot(y='duration',data=train_data)"
      ],
      "metadata": {
        "colab": {
          "base_uri": "https://localhost:8080/",
          "height": 253
        },
        "id": "F6y3Jt5ZUokt",
        "outputId": "4b4c75c5-8f62-4f02-faf1-00f09ff762f9"
      },
      "execution_count": 267,
      "outputs": [
        {
          "output_type": "display_data",
          "data": {
            "text/plain": [
              "<Figure size 432x288 with 1 Axes>"
            ],
            "image/png": "[encoded data removed]"
          },
          "metadata": {
            "needs_background": "light"
          }
        }
      ]
    },
    {
      "cell_type": "code",
      "source": [
        "sns.catplot(y = \"price\", x = \"departure_time\", data = train_data.sort_values(\"price\", ascending = False), kind=\"boxen\", height = 4, aspect = 3)\n",
        "plt.show()\n"
      ],
      "metadata": {
        "colab": {
          "base_uri": "https://localhost:8080/",
          "height": 297
        },
        "id": "nQKzTXDXAzPO",
        "outputId": "a9acb4d5-66d6-4396-e2be-f535333753a6"
      },
      "execution_count": 268,
      "outputs": [
        {
          "output_type": "display_data",
          "data": {
            "text/plain": [
              "<Figure size 864x288 with 1 Axes>"
            ],
            "image/png": "[encoded data removed]"
          },
          "metadata": {
            "needs_background": "light"
          }
        }
      ]
    },
    {
      "cell_type": "code",
      "source": [
        "sns.catplot(y = \"price\", x = \"source_city\", data = train_data.sort_values(\"price\", ascending = False), kind=\"boxen\", height = 4, aspect = 3)\n",
        "plt.show()\n"
      ],
      "metadata": {
        "colab": {
          "base_uri": "https://localhost:8080/",
          "height": 297
        },
        "id": "0lL8B48HAp0i",
        "outputId": "05252fb7-3d1e-4bbe-94a1-452f3490b51b"
      },
      "execution_count": 269,
      "outputs": [
        {
          "output_type": "display_data",
          "data": {
            "text/plain": [
              "<Figure size 864x288 with 1 Axes>"
            ],
            "image/png": "[encoded data removed]"
          },
          "metadata": {
            "needs_background": "light"
          }
        }
      ]
    },
    {
      "cell_type": "code",
      "source": [
        "train_data['flight'].value_counts()"
      ],
      "metadata": {
        "colab": {
          "base_uri": "https://localhost:8080/"
        },
        "id": "x3g1Pz4Ye2FH",
        "outputId": "6533851d-7650-491c-e440-34f69b00b1c9"
      },
      "execution_count": 270,
      "outputs": [
        {
          "output_type": "execute_result",
          "data": {
            "text/plain": [
              "UK-706     208\n",
              "UK-720     190\n",
              "UK-822     178\n",
              "UK-836     169\n",
              "UK-772     169\n",
              "          ... \n",
              "6E-2471      1\n",
              "6E-821       1\n",
              "SG-1031      1\n",
              "6E-759       1\n",
              "6E-7201      1\n",
              "Name: flight, Length: 1310, dtype: int64"
            ]
          },
          "metadata": {},
          "execution_count": 270
        }
      ]
    },
    {
      "cell_type": "code",
      "source": [
        "train_data['airline'].value_counts()"
      ],
      "metadata": {
        "colab": {
          "base_uri": "https://localhost:8080/"
        },
        "id": "o0iYLQEze-G8",
        "outputId": "814362d1-7f03-47d2-e9ef-74c48d13ba35"
      },
      "execution_count": 271,
      "outputs": [
        {
          "output_type": "execute_result",
          "data": {
            "text/plain": [
              "Vistara      8535\n",
              "Air_India    5371\n",
              "Indigo       2924\n",
              "GO_FIRST     1508\n",
              "AirAsia      1056\n",
              "SpiceJet      606\n",
              "Name: airline, dtype: int64"
            ]
          },
          "metadata": {},
          "execution_count": 271
        }
      ]
    },
    {
      "cell_type": "code",
      "source": [
        "train_data['airline'].value_counts()"
      ],
      "metadata": {
        "colab": {
          "base_uri": "https://localhost:8080/"
        },
        "id": "UvUiFaB7QSNn",
        "outputId": "93776101-0113-4061-8057-cdd1f0f56cfa"
      },
      "execution_count": 272,
      "outputs": [
        {
          "output_type": "execute_result",
          "data": {
            "text/plain": [
              "Vistara      8535\n",
              "Air_India    5371\n",
              "Indigo       2924\n",
              "GO_FIRST     1508\n",
              "AirAsia      1056\n",
              "SpiceJet      606\n",
              "Name: airline, dtype: int64"
            ]
          },
          "metadata": {},
          "execution_count": 272
        }
      ]
    },
    {
      "cell_type": "code",
      "source": [
        "sns.catplot(y = \"price\", x = \"airline\", data = train_data.sort_values(\"price\", ascending = False), kind=\"boxen\", height = 6, aspect = 3)\n",
        "plt.show()"
      ],
      "metadata": {
        "colab": {
          "base_uri": "https://localhost:8080/",
          "height": 441
        },
        "id": "V6uIm20XAXou",
        "outputId": "f42052b3-0d3e-42f6-cc40-c6038f6f99a2"
      },
      "execution_count": 273,
      "outputs": [
        {
          "output_type": "display_data",
          "data": {
            "text/plain": [
              "<Figure size 1296x432 with 1 Axes>"
            ],
            "image/png": "[encoded data removed]"
          },
          "metadata": {
            "needs_background": "light"
          }
        }
      ]
    },
    {
      "cell_type": "code",
      "source": [
        "# As it can be observed prices differ based on airline therefore we can transfer labels into numerical values based on rankings\n",
        "\n",
        "train_data['airline']=train_data['airline'].map({'SpiceJet':1,'GO_FIRST':2,'AirAsia':3,'Indigo':4,'Air_India':5,'Vistara':6})\n"
      ],
      "metadata": {
        "id": "8rz0rEohLDHr"
      },
      "execution_count": 274,
      "outputs": []
    },
    {
      "cell_type": "code",
      "source": [
        "sns.catplot(y = \"price\", x = \"stops\", data = train_data.sort_values(\"price\", ascending = False), kind=\"boxen\", height = 6, aspect = 3)\n",
        "plt.show()"
      ],
      "metadata": {
        "colab": {
          "base_uri": "https://localhost:8080/",
          "height": 441
        },
        "id": "15RxmD8NMGTQ",
        "outputId": "dbbc967d-1336-41ee-e7c5-25e51c8a5c8c"
      },
      "execution_count": 275,
      "outputs": [
        {
          "output_type": "display_data",
          "data": {
            "text/plain": [
              "<Figure size 1296x432 with 1 Axes>"
            ],
            "image/png": "[encoded data removed]"
          },
          "metadata": {
            "needs_background": "light"
          }
        }
      ]
    },
    {
      "cell_type": "code",
      "source": [
        "labelencoder = LabelEncoder()\n",
        "train_data['class'] = labelencoder.fit_transform(train_data['class'].values)\n",
        "train_data['destination_city'] = labelencoder.fit_transform(train_data['destination_city'].values)\n",
        "train_data['arrival_time'] = labelencoder.fit_transform(train_data['arrival_time'].values)\n",
        "train_data['stops'] = labelencoder.fit_transform(train_data['stops'].values)\n",
        "train_data['departure_time'] = labelencoder.fit_transform(train_data['departure_time'].values)\n",
        "train_data['source_city'] = labelencoder.fit_transform(train_data['source_city'].values)\n",
        "#train_data['airline'] = labelencoder.fit_transform(train_data['airline'].values)\n",
        "train_data['Trip'] = labelencoder.fit_transform(train_data['Trip'].values)\n",
        "train_data['Time'] = labelencoder.fit_transform(train_data['Time'].values)\n",
        "train_data['airline_class'] = labelencoder.fit_transform(train_data['airline_class'].values)\n",
        "\n",
        "# train_data['stops']=train_data['stops'].map({'zero':1,'one':2,'two_or_more':3})\n",
        "\n"
      ],
      "metadata": {
        "id": "WcOg-v3GgJ3A"
      },
      "execution_count": 276,
      "outputs": []
    },
    {
      "cell_type": "code",
      "source": [
        "# airline = train_data[['airline']]\n",
        "# destination_city = train_data[['destination_city']]\n",
        "# arrival_time = train_data[['arrival_time']]\n",
        "# stops = train_data[['stops']]\n",
        "# departure_time = train_data[['departure_time']]\n",
        "# source_city = train_data[['source_city']]\n",
        "# class_type = train_data[['class']]\n",
        "\n"
      ],
      "metadata": {
        "id": "mmaqhnjckXiy"
      },
      "execution_count": 277,
      "outputs": []
    },
    {
      "cell_type": "code",
      "source": [
        "# from sklearn.preprocessing import OneHotEncoder\n",
        "# cat_encoder = OneHotEncoder()\n",
        "# airline_encoded= cat_encoder.fit_transform(airline)\n",
        "# destination_city_encoded= cat_encoder.fit_transform(destination_city)\n",
        "# arrival_time_encoded= cat_encoder.fit_transform(arrival_time)\n",
        "# stops_encoded= cat_encoder.fit_transform(stops)\n",
        "# departure_time_encoded= cat_encoder.fit_transform(departure_time)\n",
        "# source_city_encoded= cat_encoder.fit_transform(source_city)\n",
        "# class_type_encoded= cat_encoder.fit_transform(class_type)\n",
        "\n"
      ],
      "metadata": {
        "id": "pS4CMl5flTpa"
      },
      "execution_count": 278,
      "outputs": []
    },
    {
      "cell_type": "code",
      "source": [
        "# source_city= train_data[[\"source_city\"]]\n",
        "\n",
        "# source_city= pd.get_dummies(source_city, drop_first= False)\n",
        "\n",
        "# source_city.head()"
      ],
      "metadata": {
        "id": "4wPod2J_qZ-f"
      },
      "execution_count": 279,
      "outputs": []
    },
    {
      "cell_type": "code",
      "source": [
        "# trip= train_data[[\"Trip\"]]\n",
        "\n",
        "# trip= pd.get_dummies(trip, drop_first= False)\n",
        "\n",
        "# trip.head()"
      ],
      "metadata": {
        "id": "KT_sNmZub5vM"
      },
      "execution_count": 280,
      "outputs": []
    },
    {
      "cell_type": "code",
      "source": [
        "# destination_city= train_data[[\"destination_city\"]]\n",
        "\n",
        "# destination_city= pd.get_dummies(destination_city, drop_first= False)\n",
        "\n",
        "# destination_city.head()"
      ],
      "metadata": {
        "id": "KiFwXXYinnkN"
      },
      "execution_count": 281,
      "outputs": []
    },
    {
      "cell_type": "code",
      "source": [
        "# arrival_time= train_data[[\"arrival_time\"]]\n",
        "\n",
        "# arrival_time= pd.get_dummies(arrival_time, drop_first= False)\n",
        "\n",
        "# arrival_time.head()"
      ],
      "metadata": {
        "id": "VO1GyWu3nnnK"
      },
      "execution_count": 282,
      "outputs": []
    },
    {
      "cell_type": "code",
      "source": [
        "# # stops= train_data[[\"stops\"]]\n",
        "\n",
        "# # stops= pd.get_dummies(stops, drop_first= False)\n",
        "\n",
        "# # stops.head()\n",
        "\n",
        "# train_data['stops']=train_data['stops'].map({'zero':1,'one':2,'two_or_more':3})\n",
        "\n"
      ],
      "metadata": {
        "id": "0XwfOm4xqZ1l"
      },
      "execution_count": 283,
      "outputs": []
    },
    {
      "cell_type": "code",
      "source": [
        "# departure_time= train_data[[\"departure_time\"]]\n",
        "\n",
        "# departure_time= pd.get_dummies(departure_time, drop_first= False)\n",
        "\n",
        "# departure_time.head()"
      ],
      "metadata": {
        "id": "FAp8PQqdqZ7W"
      },
      "execution_count": 284,
      "outputs": []
    },
    {
      "cell_type": "code",
      "source": [
        "# # class_type= train_data[[\"class\"]]\n",
        "\n",
        "# # class_type= pd.get_dummies(class_type, drop_first= False)\n",
        "\n",
        "# # class_type.head()\n",
        "\n",
        "# train_data['class']=train_data['class'].map({'Economy':0,'Business':1})"
      ],
      "metadata": {
        "id": "dUR_56M0qaBq"
      },
      "execution_count": 285,
      "outputs": []
    },
    {
      "cell_type": "code",
      "source": [
        "# # Concatenate dataframe \n",
        "\n",
        "# data_train = pd.concat([train_data, arrival_time,departure_time,trip], axis = 1)\n",
        "\n",
        "\n"
      ],
      "metadata": {
        "id": "P-x5oJeVsrcM"
      },
      "execution_count": 286,
      "outputs": []
    },
    {
      "cell_type": "code",
      "source": [
        "train_data.head(1)"
      ],
      "metadata": {
        "colab": {
          "base_uri": "https://localhost:8080/",
          "height": 134
        },
        "id": "0YhTjHA9Oui4",
        "outputId": "fd08a2de-25f1-4645-9609-740450e22e5b"
      },
      "execution_count": 287,
      "outputs": [
        {
          "output_type": "execute_result",
          "data": {
            "text/plain": [
              "    airline  flight  source_city  departure_time  stops  arrival_time  \\\n",
              "id                                                                      \n",
              "1         6  UK-810            0               1      0             5   \n",
              "\n",
              "    destination_city  class  duration  days_left  price  Trip  Time  \\\n",
              "id                                                                    \n",
              "1                  5      1     14.25         21   7212    13    11   \n",
              "\n",
              "    airline_class  \n",
              "id                 \n",
              "1               7  "
            ],
            "text/html": [
              "\n",
              "  <div id=\"df-8e4516fc-05a1-4637-b1d2-c9eb90b3f7d0\">\n",
              "    <div class=\"colab-df-container\">\n",
              "      <div>\n",
              "<style scoped>\n",
              "    .dataframe tbody tr th:only-of-type {\n",
              "        vertical-align: middle;\n",
              "    }\n",
              "\n",
              "    .dataframe tbody tr th {\n",
              "        vertical-align: top;\n",
              "    }\n",
              "\n",
              "    .dataframe thead th {\n",
              "        text-align: right;\n",
              "    }\n",
              "</style>\n",
              "<table border=\"1\" class=\"dataframe\">\n",
              "  <thead>\n",
              "    <tr style=\"text-align: right;\">\n",
              "      <th></th>\n",
              "      <th>airline</th>\n",
              "      <th>flight</th>\n",
              "      <th>source_city</th>\n",
              "      <th>departure_time</th>\n",
              "      <th>stops</th>\n",
              "      <th>arrival_time</th>\n",
              "      <th>destination_city</th>\n",
              "      <th>class</th>\n",
              "      <th>duration</th>\n",
              "      <th>days_left</th>\n",
              "      <th>price</th>\n",
              "      <th>Trip</th>\n",
              "      <th>Time</th>\n",
              "      <th>airline_class</th>\n",
              "    </tr>\n",
              "    <tr>\n",
              "      <th>id</th>\n",
              "      <th></th>\n",
              "      <th></th>\n",
              "      <th></th>\n",
              "      <th></th>\n",
              "      <th></th>\n",
              "      <th></th>\n",
              "      <th></th>\n",
              "      <th></th>\n",
              "      <th></th>\n",
              "      <th></th>\n",
              "      <th></th>\n",
              "      <th></th>\n",
              "      <th></th>\n",
              "      <th></th>\n",
              "    </tr>\n",
              "  </thead>\n",
              "  <tbody>\n",
              "    <tr>\n",
              "      <th>1</th>\n",
              "      <td>6</td>\n",
              "      <td>UK-810</td>\n",
              "      <td>0</td>\n",
              "      <td>1</td>\n",
              "      <td>0</td>\n",
              "      <td>5</td>\n",
              "      <td>5</td>\n",
              "      <td>1</td>\n",
              "      <td>14.25</td>\n",
              "      <td>21</td>\n",
              "      <td>7212</td>\n",
              "      <td>13</td>\n",
              "      <td>11</td>\n",
              "      <td>7</td>\n",
              "    </tr>\n",
              "  </tbody>\n",
              "</table>\n",
              "</div>\n",
              "      <button class=\"colab-df-convert\" onclick=\"convertToInteractive('df-8e4516fc-05a1-4637-b1d2-c9eb90b3f7d0')\"\n",
              "              title=\"Convert this dataframe to an interactive table.\"\n",
              "              style=\"display:none;\">\n",
              "        \n",
              "  <svg xmlns=\"http://www.w3.org/2000/svg\" height=\"24px\"viewBox=\"0 0 24 24\"\n",
              "       width=\"24px\">\n",
              "    <path d=\"M0 0h24v24H0V0z\" fill=\"none\"/>\n",
              "    <path d=\"M18.56 5.44l.94 2.06.94-2.06 2.06-.94-2.06-.94-.94-2.06-.94 2.06-2.06.94zm-11 1L8.5 8.5l.94-2.06 2.06-.94-2.06-.94L8.5 2.5l-.94 2.06-2.06.94zm10 10l.94 2.06.94-2.06 2.06-.94-2.06-.94-.94-2.06-.94 2.06-2.06.94z\"/><path d=\"M17.41 7.96l-1.37-1.37c-.4-.4-.92-.59-1.43-.59-.52 0-1.04.2-1.43.59L10.3 9.45l-7.72 7.72c-.78.78-.78 2.05 0 2.83L4 21.41c.39.39.9.59 1.41.59.51 0 1.02-.2 1.41-.59l7.78-7.78 2.81-2.81c.8-.78.8-2.07 0-2.86zM5.41 20L4 18.59l7.72-7.72 1.47 1.35L5.41 20z\"/>\n",
              "  </svg>\n",
              "      </button>\n",
              "      \n",
              "  <style>\n",
              "    .colab-df-container {\n",
              "      display:flex;\n",
              "      flex-wrap:wrap;\n",
              "      gap: 12px;\n",
              "    }\n",
              "\n",
              "    .colab-df-convert {\n",
              "      background-color: #E8F0FE;\n",
              "      border: none;\n",
              "      border-radius: 50%;\n",
              "      cursor: pointer;\n",
              "      display: none;\n",
              "      fill: #1967D2;\n",
              "      height: 32px;\n",
              "      padding: 0 0 0 0;\n",
              "      width: 32px;\n",
              "    }\n",
              "\n",
              "    .colab-df-convert:hover {\n",
              "      background-color: #E2EBFA;\n",
              "      box-shadow: 0px 1px 2px rgba(60, 64, 67, 0.3), 0px 1px 3px 1px rgba(60, 64, 67, 0.15);\n",
              "      fill: #174EA6;\n",
              "    }\n",
              "\n",
              "    [theme=dark] .colab-df-convert {\n",
              "      background-color: #3B4455;\n",
              "      fill: #D2E3FC;\n",
              "    }\n",
              "\n",
              "    [theme=dark] .colab-df-convert:hover {\n",
              "      background-color: #434B5C;\n",
              "      box-shadow: 0px 1px 3px 1px rgba(0, 0, 0, 0.15);\n",
              "      filter: drop-shadow(0px 1px 2px rgba(0, 0, 0, 0.3));\n",
              "      fill: #FFFFFF;\n",
              "    }\n",
              "  </style>\n",
              "\n",
              "      <script>\n",
              "        const buttonEl =\n",
              "          document.querySelector('#df-8e4516fc-05a1-4637-b1d2-c9eb90b3f7d0 button.colab-df-convert');\n",
              "        buttonEl.style.display =\n",
              "          google.colab.kernel.accessAllowed ? 'block' : 'none';\n",
              "\n",
              "        async function convertToInteractive(key) {\n",
              "          const element = document.querySelector('#df-8e4516fc-05a1-4637-b1d2-c9eb90b3f7d0');\n",
              "          const dataTable =\n",
              "            await google.colab.kernel.invokeFunction('convertToInteractive',\n",
              "                                                     [key], {});\n",
              "          if (!dataTable) return;\n",
              "\n",
              "          const docLinkHtml = 'Like what you see? Visit the ' +\n",
              "            '<a target=\"_blank\" href=https://colab.research.google.com/notebooks/data_table.ipynb>data table notebook</a>'\n",
              "            + ' to learn more about interactive tables.';\n",
              "          element.innerHTML = '';\n",
              "          dataTable['output_type'] = 'display_data';\n",
              "          await google.colab.output.renderOutput(dataTable, element);\n",
              "          const docLink = document.createElement('div');\n",
              "          docLink.innerHTML = docLinkHtml;\n",
              "          element.appendChild(docLink);\n",
              "        }\n",
              "      </script>\n",
              "    </div>\n",
              "  </div>\n",
              "  "
            ]
          },
          "metadata": {},
          "execution_count": 287
        }
      ]
    },
    {
      "cell_type": "code",
      "source": [
        "data_train=train_data"
      ],
      "metadata": {
        "id": "_HoH-c7sPBjN"
      },
      "execution_count": 288,
      "outputs": []
    },
    {
      "cell_type": "code",
      "source": [
        "data_train.shape"
      ],
      "metadata": {
        "colab": {
          "base_uri": "https://localhost:8080/"
        },
        "id": "Gw7ULLW0srfo",
        "outputId": "67bff491-85ed-4f2b-b3f4-6acb5a6b8ac1"
      },
      "execution_count": 289,
      "outputs": [
        {
          "output_type": "execute_result",
          "data": {
            "text/plain": [
              "(20000, 14)"
            ]
          },
          "metadata": {},
          "execution_count": 289
        }
      ]
    },
    {
      "cell_type": "code",
      "source": [
        "data_train.isnull().sum()"
      ],
      "metadata": {
        "colab": {
          "base_uri": "https://localhost:8080/"
        },
        "id": "tQiqmPTtPwlv",
        "outputId": "1ed387e1-b8b6-44a3-9e92-368885b8900f"
      },
      "execution_count": 290,
      "outputs": [
        {
          "output_type": "execute_result",
          "data": {
            "text/plain": [
              "airline             0\n",
              "flight              0\n",
              "source_city         0\n",
              "departure_time      0\n",
              "stops               0\n",
              "arrival_time        0\n",
              "destination_city    0\n",
              "class               0\n",
              "duration            0\n",
              "days_left           0\n",
              "price               0\n",
              "Trip                0\n",
              "Time                0\n",
              "airline_class       0\n",
              "dtype: int64"
            ]
          },
          "metadata": {},
          "execution_count": 290
        }
      ]
    },
    {
      "cell_type": "code",
      "source": [
        "#data_train.drop([\"flight\",'Trip', \"destination_city\", \"arrival_time\",\"departure_time\",\"source_city\"], axis = 1, inplace = True)\n",
        "\n",
        "# data_train.drop(['source_city','destination_city','arrival_time','departure_time','Trip','Time'], axis=1, inplace=True)\n"
      ],
      "metadata": {
        "id": "sjjVB92-sri-"
      },
      "execution_count": 291,
      "outputs": []
    },
    {
      "cell_type": "code",
      "source": [
        "data_train.head()"
      ],
      "metadata": {
        "colab": {
          "base_uri": "https://localhost:8080/",
          "height": 290
        },
        "id": "XxghoheltL2N",
        "outputId": "873dc2f2-a427-4dd7-d455-c14e3b222c40"
      },
      "execution_count": 292,
      "outputs": [
        {
          "output_type": "execute_result",
          "data": {
            "text/plain": [
              "    airline   flight  source_city  departure_time  stops  arrival_time  \\\n",
              "id                                                                       \n",
              "1         6   UK-810            0               1      0             5   \n",
              "2         1  SG-5094            3               2      2             5   \n",
              "3         6   UK-846            0               4      0             2   \n",
              "4         6   UK-706            4               4      0             2   \n",
              "5         4  6E-5394            1               1      2             4   \n",
              "\n",
              "    destination_city  class  duration  days_left  price  Trip  Time  \\\n",
              "id                                                                    \n",
              "1                  5      1     14.25         21   7212    13    11   \n",
              "2                  4      1      1.75          7   5292    11    17   \n",
              "3                  2      0      9.58          5  60553     1    26   \n",
              "4                  3      1      6.75         28   5760    11    26   \n",
              "5                  5      1      2.00          4  10712     4    10   \n",
              "\n",
              "    airline_class  \n",
              "id                 \n",
              "1               7  \n",
              "2               5  \n",
              "3               6  \n",
              "4               7  \n",
              "5               4  "
            ],
            "text/html": [
              "\n",
              "  <div id=\"df-d26f5c9c-38d7-439a-8495-b4021ab17245\">\n",
              "    <div class=\"colab-df-container\">\n",
              "      <div>\n",
              "<style scoped>\n",
              "    .dataframe tbody tr th:only-of-type {\n",
              "        vertical-align: middle;\n",
              "    }\n",
              "\n",
              "    .dataframe tbody tr th {\n",
              "        vertical-align: top;\n",
              "    }\n",
              "\n",
              "    .dataframe thead th {\n",
              "        text-align: right;\n",
              "    }\n",
              "</style>\n",
              "<table border=\"1\" class=\"dataframe\">\n",
              "  <thead>\n",
              "    <tr style=\"text-align: right;\">\n",
              "      <th></th>\n",
              "      <th>airline</th>\n",
              "      <th>flight</th>\n",
              "      <th>source_city</th>\n",
              "      <th>departure_time</th>\n",
              "      <th>stops</th>\n",
              "      <th>arrival_time</th>\n",
              "      <th>destination_city</th>\n",
              "      <th>class</th>\n",
              "      <th>duration</th>\n",
              "      <th>days_left</th>\n",
              "      <th>price</th>\n",
              "      <th>Trip</th>\n",
              "      <th>Time</th>\n",
              "      <th>airline_class</th>\n",
              "    </tr>\n",
              "    <tr>\n",
              "      <th>id</th>\n",
              "      <th></th>\n",
              "      <th></th>\n",
              "      <th></th>\n",
              "      <th></th>\n",
              "      <th></th>\n",
              "      <th></th>\n",
              "      <th></th>\n",
              "      <th></th>\n",
              "      <th></th>\n",
              "      <th></th>\n",
              "      <th></th>\n",
              "      <th></th>\n",
              "      <th></th>\n",
              "      <th></th>\n",
              "    </tr>\n",
              "  </thead>\n",
              "  <tbody>\n",
              "    <tr>\n",
              "      <th>1</th>\n",
              "      <td>6</td>\n",
              "      <td>UK-810</td>\n",
              "      <td>0</td>\n",
              "      <td>1</td>\n",
              "      <td>0</td>\n",
              "      <td>5</td>\n",
              "      <td>5</td>\n",
              "      <td>1</td>\n",
              "      <td>14.25</td>\n",
              "      <td>21</td>\n",
              "      <td>7212</td>\n",
              "      <td>13</td>\n",
              "      <td>11</td>\n",
              "      <td>7</td>\n",
              "    </tr>\n",
              "    <tr>\n",
              "      <th>2</th>\n",
              "      <td>1</td>\n",
              "      <td>SG-5094</td>\n",
              "      <td>3</td>\n",
              "      <td>2</td>\n",
              "      <td>2</td>\n",
              "      <td>5</td>\n",
              "      <td>4</td>\n",
              "      <td>1</td>\n",
              "      <td>1.75</td>\n",
              "      <td>7</td>\n",
              "      <td>5292</td>\n",
              "      <td>11</td>\n",
              "      <td>17</td>\n",
              "      <td>5</td>\n",
              "    </tr>\n",
              "    <tr>\n",
              "      <th>3</th>\n",
              "      <td>6</td>\n",
              "      <td>UK-846</td>\n",
              "      <td>0</td>\n",
              "      <td>4</td>\n",
              "      <td>0</td>\n",
              "      <td>2</td>\n",
              "      <td>2</td>\n",
              "      <td>0</td>\n",
              "      <td>9.58</td>\n",
              "      <td>5</td>\n",
              "      <td>60553</td>\n",
              "      <td>1</td>\n",
              "      <td>26</td>\n",
              "      <td>6</td>\n",
              "    </tr>\n",
              "    <tr>\n",
              "      <th>4</th>\n",
              "      <td>6</td>\n",
              "      <td>UK-706</td>\n",
              "      <td>4</td>\n",
              "      <td>4</td>\n",
              "      <td>0</td>\n",
              "      <td>2</td>\n",
              "      <td>3</td>\n",
              "      <td>1</td>\n",
              "      <td>6.75</td>\n",
              "      <td>28</td>\n",
              "      <td>5760</td>\n",
              "      <td>11</td>\n",
              "      <td>26</td>\n",
              "      <td>7</td>\n",
              "    </tr>\n",
              "    <tr>\n",
              "      <th>5</th>\n",
              "      <td>4</td>\n",
              "      <td>6E-5394</td>\n",
              "      <td>1</td>\n",
              "      <td>1</td>\n",
              "      <td>2</td>\n",
              "      <td>4</td>\n",
              "      <td>5</td>\n",
              "      <td>1</td>\n",
              "      <td>2.00</td>\n",
              "      <td>4</td>\n",
              "      <td>10712</td>\n",
              "      <td>4</td>\n",
              "      <td>10</td>\n",
              "      <td>4</td>\n",
              "    </tr>\n",
              "  </tbody>\n",
              "</table>\n",
              "</div>\n",
              "      <button class=\"colab-df-convert\" onclick=\"convertToInteractive('df-d26f5c9c-38d7-439a-8495-b4021ab17245')\"\n",
              "              title=\"Convert this dataframe to an interactive table.\"\n",
              "              style=\"display:none;\">\n",
              "        \n",
              "  <svg xmlns=\"http://www.w3.org/2000/svg\" height=\"24px\"viewBox=\"0 0 24 24\"\n",
              "       width=\"24px\">\n",
              "    <path d=\"M0 0h24v24H0V0z\" fill=\"none\"/>\n",
              "    <path d=\"M18.56 5.44l.94 2.06.94-2.06 2.06-.94-2.06-.94-.94-2.06-.94 2.06-2.06.94zm-11 1L8.5 8.5l.94-2.06 2.06-.94-2.06-.94L8.5 2.5l-.94 2.06-2.06.94zm10 10l.94 2.06.94-2.06 2.06-.94-2.06-.94-.94-2.06-.94 2.06-2.06.94z\"/><path d=\"M17.41 7.96l-1.37-1.37c-.4-.4-.92-.59-1.43-.59-.52 0-1.04.2-1.43.59L10.3 9.45l-7.72 7.72c-.78.78-.78 2.05 0 2.83L4 21.41c.39.39.9.59 1.41.59.51 0 1.02-.2 1.41-.59l7.78-7.78 2.81-2.81c.8-.78.8-2.07 0-2.86zM5.41 20L4 18.59l7.72-7.72 1.47 1.35L5.41 20z\"/>\n",
              "  </svg>\n",
              "      </button>\n",
              "      \n",
              "  <style>\n",
              "    .colab-df-container {\n",
              "      display:flex;\n",
              "      flex-wrap:wrap;\n",
              "      gap: 12px;\n",
              "    }\n",
              "\n",
              "    .colab-df-convert {\n",
              "      background-color: #E8F0FE;\n",
              "      border: none;\n",
              "      border-radius: 50%;\n",
              "      cursor: pointer;\n",
              "      display: none;\n",
              "      fill: #1967D2;\n",
              "      height: 32px;\n",
              "      padding: 0 0 0 0;\n",
              "      width: 32px;\n",
              "    }\n",
              "\n",
              "    .colab-df-convert:hover {\n",
              "      background-color: #E2EBFA;\n",
              "      box-shadow: 0px 1px 2px rgba(60, 64, 67, 0.3), 0px 1px 3px 1px rgba(60, 64, 67, 0.15);\n",
              "      fill: #174EA6;\n",
              "    }\n",
              "\n",
              "    [theme=dark] .colab-df-convert {\n",
              "      background-color: #3B4455;\n",
              "      fill: #D2E3FC;\n",
              "    }\n",
              "\n",
              "    [theme=dark] .colab-df-convert:hover {\n",
              "      background-color: #434B5C;\n",
              "      box-shadow: 0px 1px 3px 1px rgba(0, 0, 0, 0.15);\n",
              "      filter: drop-shadow(0px 1px 2px rgba(0, 0, 0, 0.3));\n",
              "      fill: #FFFFFF;\n",
              "    }\n",
              "  </style>\n",
              "\n",
              "      <script>\n",
              "        const buttonEl =\n",
              "          document.querySelector('#df-d26f5c9c-38d7-439a-8495-b4021ab17245 button.colab-df-convert');\n",
              "        buttonEl.style.display =\n",
              "          google.colab.kernel.accessAllowed ? 'block' : 'none';\n",
              "\n",
              "        async function convertToInteractive(key) {\n",
              "          const element = document.querySelector('#df-d26f5c9c-38d7-439a-8495-b4021ab17245');\n",
              "          const dataTable =\n",
              "            await google.colab.kernel.invokeFunction('convertToInteractive',\n",
              "                                                     [key], {});\n",
              "          if (!dataTable) return;\n",
              "\n",
              "          const docLinkHtml = 'Like what you see? Visit the ' +\n",
              "            '<a target=\"_blank\" href=https://colab.research.google.com/notebooks/data_table.ipynb>data table notebook</a>'\n",
              "            + ' to learn more about interactive tables.';\n",
              "          element.innerHTML = '';\n",
              "          dataTable['output_type'] = 'display_data';\n",
              "          await google.colab.output.renderOutput(dataTable, element);\n",
              "          const docLink = document.createElement('div');\n",
              "          docLink.innerHTML = docLinkHtml;\n",
              "          element.appendChild(docLink);\n",
              "        }\n",
              "      </script>\n",
              "    </div>\n",
              "  </div>\n",
              "  "
            ]
          },
          "metadata": {},
          "execution_count": 292
        }
      ]
    },
    {
      "cell_type": "code",
      "source": [
        "data_train.corrwith(data_train['price']).abs().sort_values(ascending=False)"
      ],
      "metadata": {
        "colab": {
          "base_uri": "https://localhost:8080/"
        },
        "id": "H7mrvFbdgM5x",
        "outputId": "f50d6c34-37e5-4fc5-90ac-ecd444b283c4"
      },
      "execution_count": 293,
      "outputs": [
        {
          "output_type": "execute_result",
          "data": {
            "text/plain": [
              "price               1.000000\n",
              "class               0.937868\n",
              "airline             0.424242\n",
              "duration            0.213158\n",
              "stops               0.201309\n",
              "days_left           0.102545\n",
              "airline_class       0.096603\n",
              "Time                0.065800\n",
              "departure_time      0.058520\n",
              "arrival_time        0.046801\n",
              "Trip                0.028328\n",
              "source_city         0.013570\n",
              "destination_city    0.008747\n",
              "dtype: float64"
            ]
          },
          "metadata": {},
          "execution_count": 293
        }
      ]
    },
    {
      "cell_type": "code",
      "source": [
        "corr_matrix = data_train.corr().abs()\n",
        "corr_matrix.style.background_gradient(cmap='coolwarm')"
      ],
      "metadata": {
        "colab": {
          "base_uri": "https://localhost:8080/",
          "height": 561
        },
        "id": "PEcR827FmAB3",
        "outputId": "a56c7637-5e91-441d-fd34-cbb21b171ff2"
      },
      "execution_count": 294,
      "outputs": [
        {
          "output_type": "execute_result",
          "data": {
            "text/plain": [
              "<pandas.io.formats.style.Styler at 0x7f6bc2648150>"
            ],
            "text/html": [
              "<style type=\"text/css\">\n",
              "#T_49097_row0_col0, #T_49097_row1_col1, #T_49097_row2_col2, #T_49097_row3_col3, #T_49097_row4_col4, #T_49097_row5_col5, #T_49097_row6_col6, #T_49097_row7_col7, #T_49097_row8_col8, #T_49097_row9_col9, #T_49097_row10_col10, #T_49097_row11_col11, #T_49097_row12_col12 {\n",
              "  background-color: #b40426;\n",
              "  color: #f1f1f1;\n",
              "}\n",
              "#T_49097_row0_col1, #T_49097_row3_col2, #T_49097_row3_col5, #T_49097_row3_col10, #T_49097_row5_col0, #T_49097_row5_col3, #T_49097_row8_col0, #T_49097_row9_col1, #T_49097_row10_col3, #T_49097_row10_col6, #T_49097_row11_col3, #T_49097_row12_col6 {\n",
              "  background-color: #3e51c5;\n",
              "  color: #f1f1f1;\n",
              "}\n",
              "#T_49097_row0_col2, #T_49097_row7_col2 {\n",
              "  background-color: #5470de;\n",
              "  color: #f1f1f1;\n",
              "}\n",
              "#T_49097_row0_col3 {\n",
              "  background-color: #6485ec;\n",
              "  color: #f1f1f1;\n",
              "}\n",
              "#T_49097_row0_col4, #T_49097_row2_col9 {\n",
              "  background-color: #4961d2;\n",
              "  color: #f1f1f1;\n",
              "}\n",
              "#T_49097_row0_col5, #T_49097_row0_col8, #T_49097_row5_col4, #T_49097_row9_col10, #T_49097_row12_col3 {\n",
              "  background-color: #4257c9;\n",
              "  color: #f1f1f1;\n",
              "}\n",
              "#T_49097_row0_col6 {\n",
              "  background-color: #bfd3f6;\n",
              "  color: #000000;\n",
              "}\n",
              "#T_49097_row0_col7 {\n",
              "  background-color: #8db0fe;\n",
              "  color: #000000;\n",
              "}\n",
              "#T_49097_row0_col9 {\n",
              "  background-color: #c6d6f1;\n",
              "  color: #000000;\n",
              "}\n",
              "#T_49097_row0_col10, #T_49097_row2_col4, #T_49097_row4_col1, #T_49097_row4_col9 {\n",
              "  background-color: #455cce;\n",
              "  color: #f1f1f1;\n",
              "}\n",
              "#T_49097_row0_col11, #T_49097_row9_col8 {\n",
              "  background-color: #5977e3;\n",
              "  color: #f1f1f1;\n",
              "}\n",
              "#T_49097_row0_col12 {\n",
              "  background-color: #dfdbd9;\n",
              "  color: #000000;\n",
              "}\n",
              "#T_49097_row1_col0, #T_49097_row1_col2, #T_49097_row1_col3, #T_49097_row1_col8, #T_49097_row1_col11, #T_49097_row2_col8, #T_49097_row3_col1, #T_49097_row3_col4, #T_49097_row4_col10, #T_49097_row5_col6, #T_49097_row5_col9, #T_49097_row6_col5, #T_49097_row7_col10, #T_49097_row7_col12, #T_49097_row8_col1, #T_49097_row8_col2, #T_49097_row8_col10, #T_49097_row10_col2, #T_49097_row10_col4, #T_49097_row10_col7, #T_49097_row10_col8, #T_49097_row11_col1, #T_49097_row11_col5, #T_49097_row11_col8, #T_49097_row12_col7 {\n",
              "  background-color: #3b4cc0;\n",
              "  color: #f1f1f1;\n",
              "}\n",
              "#T_49097_row1_col4, #T_49097_row4_col2, #T_49097_row4_col6, #T_49097_row4_col12, #T_49097_row5_col12, #T_49097_row12_col5 {\n",
              "  background-color: #445acc;\n",
              "  color: #f1f1f1;\n",
              "}\n",
              "#T_49097_row1_col5 {\n",
              "  background-color: #85a8fc;\n",
              "  color: #f1f1f1;\n",
              "}\n",
              "#T_49097_row1_col6, #T_49097_row1_col7, #T_49097_row1_col9, #T_49097_row2_col1, #T_49097_row2_col10, #T_49097_row4_col3, #T_49097_row4_col8, #T_49097_row5_col2, #T_49097_row5_col11, #T_49097_row6_col1, #T_49097_row7_col1, #T_49097_row7_col4, #T_49097_row8_col4, #T_49097_row8_col11, #T_49097_row9_col5, #T_49097_row11_col10 {\n",
              "  background-color: #3c4ec2;\n",
              "  color: #f1f1f1;\n",
              "}\n",
              "#T_49097_row1_col10, #T_49097_row10_col1 {\n",
              "  background-color: #d1dae9;\n",
              "  color: #000000;\n",
              "}\n",
              "#T_49097_row1_col12, #T_49097_row2_col3, #T_49097_row3_col11, #T_49097_row6_col8, #T_49097_row6_col12, #T_49097_row7_col8, #T_49097_row8_col7, #T_49097_row12_col1, #T_49097_row12_col8 {\n",
              "  background-color: #3f53c6;\n",
              "  color: #f1f1f1;\n",
              "}\n",
              "#T_49097_row2_col0 {\n",
              "  background-color: #536edd;\n",
              "  color: #f1f1f1;\n",
              "}\n",
              "#T_49097_row2_col5, #T_49097_row4_col7, #T_49097_row5_col7, #T_49097_row5_col8, #T_49097_row6_col10, #T_49097_row7_col5, #T_49097_row8_col5, #T_49097_row10_col11 {\n",
              "  background-color: #3d50c3;\n",
              "  color: #f1f1f1;\n",
              "}\n",
              "#T_49097_row2_col6, #T_49097_row11_col9 {\n",
              "  background-color: #4b64d5;\n",
              "  color: #f1f1f1;\n",
              "}\n",
              "#T_49097_row2_col7, #T_49097_row7_col11, #T_49097_row11_col7 {\n",
              "  background-color: #5673e0;\n",
              "  color: #f1f1f1;\n",
              "}\n",
              "#T_49097_row2_col11, #T_49097_row11_col2 {\n",
              "  background-color: #b8122a;\n",
              "  color: #f1f1f1;\n",
              "}\n",
              "#T_49097_row2_col12 {\n",
              "  background-color: #485fd1;\n",
              "  color: #f1f1f1;\n",
              "}\n",
              "#T_49097_row3_col0 {\n",
              "  background-color: #6282ea;\n",
              "  color: #f1f1f1;\n",
              "}\n",
              "#T_49097_row3_col6, #T_49097_row6_col3, #T_49097_row8_col9, #T_49097_row9_col12 {\n",
              "  background-color: #5875e1;\n",
              "  color: #f1f1f1;\n",
              "}\n",
              "#T_49097_row3_col7, #T_49097_row7_col3 {\n",
              "  background-color: #d7dce3;\n",
              "  color: #000000;\n",
              "}\n",
              "#T_49097_row3_col8, #T_49097_row8_col3, #T_49097_row8_col6, #T_49097_row8_col12, #T_49097_row10_col9 {\n",
              "  background-color: #4055c8;\n",
              "  color: #f1f1f1;\n",
              "}\n",
              "#T_49097_row3_col9 {\n",
              "  background-color: #799cf8;\n",
              "  color: #f1f1f1;\n",
              "}\n",
              "#T_49097_row3_col12, #T_49097_row4_col5, #T_49097_row6_col4, #T_49097_row10_col0, #T_49097_row12_col4 {\n",
              "  background-color: #4358cb;\n",
              "  color: #f1f1f1;\n",
              "}\n",
              "#T_49097_row4_col0, #T_49097_row9_col4, #T_49097_row12_col2 {\n",
              "  background-color: #465ecf;\n",
              "  color: #f1f1f1;\n",
              "}\n",
              "#T_49097_row4_col11 {\n",
              "  background-color: #6180e9;\n",
              "  color: #f1f1f1;\n",
              "}\n",
              "#T_49097_row5_col1 {\n",
              "  background-color: #86a9fc;\n",
              "  color: #f1f1f1;\n",
              "}\n",
              "#T_49097_row5_col10, #T_49097_row10_col5 {\n",
              "  background-color: #d2dbe8;\n",
              "  color: #000000;\n",
              "}\n",
              "#T_49097_row6_col0 {\n",
              "  background-color: #bcd2f7;\n",
              "  color: #000000;\n",
              "}\n",
              "#T_49097_row6_col2, #T_49097_row9_col2, #T_49097_row10_col12, #T_49097_row11_col12, #T_49097_row12_col10, #T_49097_row12_col11 {\n",
              "  background-color: #4a63d3;\n",
              "  color: #f1f1f1;\n",
              "}\n",
              "#T_49097_row6_col7, #T_49097_row7_col6 {\n",
              "  background-color: #6788ee;\n",
              "  color: #f1f1f1;\n",
              "}\n",
              "#T_49097_row6_col9 {\n",
              "  background-color: #cb3e38;\n",
              "  color: #f1f1f1;\n",
              "}\n",
              "#T_49097_row6_col11, #T_49097_row9_col11 {\n",
              "  background-color: #4e68d8;\n",
              "  color: #f1f1f1;\n",
              "}\n",
              "#T_49097_row7_col0 {\n",
              "  background-color: #89acfd;\n",
              "  color: #000000;\n",
              "}\n",
              "#T_49097_row7_col9 {\n",
              "  background-color: #7da0f9;\n",
              "  color: #f1f1f1;\n",
              "}\n",
              "#T_49097_row9_col0 {\n",
              "  background-color: #c5d6f2;\n",
              "  color: #000000;\n",
              "}\n",
              "#T_49097_row9_col3 {\n",
              "  background-color: #7a9df8;\n",
              "  color: #f1f1f1;\n",
              "}\n",
              "#T_49097_row9_col6 {\n",
              "  background-color: #ca3b37;\n",
              "  color: #f1f1f1;\n",
              "}\n",
              "#T_49097_row9_col7 {\n",
              "  background-color: #80a3fa;\n",
              "  color: #f1f1f1;\n",
              "}\n",
              "#T_49097_row11_col0, #T_49097_row12_col9 {\n",
              "  background-color: #5572df;\n",
              "  color: #f1f1f1;\n",
              "}\n",
              "#T_49097_row11_col4 {\n",
              "  background-color: #5f7fe8;\n",
              "  color: #f1f1f1;\n",
              "}\n",
              "#T_49097_row11_col6 {\n",
              "  background-color: #4c66d6;\n",
              "  color: #f1f1f1;\n",
              "}\n",
              "#T_49097_row12_col0 {\n",
              "  background-color: #dddcdc;\n",
              "  color: #000000;\n",
              "}\n",
              "</style>\n",
              "<table id=\"T_49097_\" class=\"dataframe\">\n",
              "  <thead>\n",
              "    <tr>\n",
              "      <th class=\"blank level0\" >&nbsp;</th>\n",
              "      <th class=\"col_heading level0 col0\" >airline</th>\n",
              "      <th class=\"col_heading level0 col1\" >source_city</th>\n",
              "      <th class=\"col_heading level0 col2\" >departure_time</th>\n",
              "      <th class=\"col_heading level0 col3\" >stops</th>\n",
              "      <th class=\"col_heading level0 col4\" >arrival_time</th>\n",
              "      <th class=\"col_heading level0 col5\" >destination_city</th>\n",
              "      <th class=\"col_heading level0 col6\" >class</th>\n",
              "      <th class=\"col_heading level0 col7\" >duration</th>\n",
              "      <th class=\"col_heading level0 col8\" >days_left</th>\n",
              "      <th class=\"col_heading level0 col9\" >price</th>\n",
              "      <th class=\"col_heading level0 col10\" >Trip</th>\n",
              "      <th class=\"col_heading level0 col11\" >Time</th>\n",
              "      <th class=\"col_heading level0 col12\" >airline_class</th>\n",
              "    </tr>\n",
              "  </thead>\n",
              "  <tbody>\n",
              "    <tr>\n",
              "      <th id=\"T_49097_level0_row0\" class=\"row_heading level0 row0\" >airline</th>\n",
              "      <td id=\"T_49097_row0_col0\" class=\"data row0 col0\" >1.000000</td>\n",
              "      <td id=\"T_49097_row0_col1\" class=\"data row0 col1\" >0.013481</td>\n",
              "      <td id=\"T_49097_row0_col2\" class=\"data row0 col2\" >0.091404</td>\n",
              "      <td id=\"T_49097_row0_col3\" class=\"data row0 col3\" >0.136875</td>\n",
              "      <td id=\"T_49097_row0_col4\" class=\"data row0 col4\" >0.052658</td>\n",
              "      <td id=\"T_49097_row0_col5\" class=\"data row0 col5\" >0.027706</td>\n",
              "      <td id=\"T_49097_row0_col6\" class=\"data row0 col6\" >0.398738</td>\n",
              "      <td id=\"T_49097_row0_col7\" class=\"data row0 col7\" >0.251252</td>\n",
              "      <td id=\"T_49097_row0_col8\" class=\"data row0 col8\" >0.027813</td>\n",
              "      <td id=\"T_49097_row0_col9\" class=\"data row0 col9\" >0.424242</td>\n",
              "      <td id=\"T_49097_row0_col10\" class=\"data row0 col10\" >0.040812</td>\n",
              "      <td id=\"T_49097_row0_col11\" class=\"data row0 col11\" >0.099416</td>\n",
              "      <td id=\"T_49097_row0_col12\" class=\"data row0 col12\" >0.509400</td>\n",
              "    </tr>\n",
              "    <tr>\n",
              "      <th id=\"T_49097_level0_row1\" class=\"row_heading level0 row1\" >source_city</th>\n",
              "      <td id=\"T_49097_row1_col0\" class=\"data row1 col0\" >0.013481</td>\n",
              "      <td id=\"T_49097_row1_col1\" class=\"data row1 col1\" >1.000000</td>\n",
              "      <td id=\"T_49097_row1_col2\" class=\"data row1 col2\" >0.006443</td>\n",
              "      <td id=\"T_49097_row1_col3\" class=\"data row1 col3\" >0.002982</td>\n",
              "      <td id=\"T_49097_row1_col4\" class=\"data row1 col4\" >0.037453</td>\n",
              "      <td id=\"T_49097_row1_col5\" class=\"data row1 col5\" >0.231524</td>\n",
              "      <td id=\"T_49097_row1_col6\" class=\"data row1 col6\" >0.007379</td>\n",
              "      <td id=\"T_49097_row1_col7\" class=\"data row1 col7\" >0.006542</td>\n",
              "      <td id=\"T_49097_row1_col8\" class=\"data row1 col8\" >0.003307</td>\n",
              "      <td id=\"T_49097_row1_col9\" class=\"data row1 col9\" >0.013570</td>\n",
              "      <td id=\"T_49097_row1_col10\" class=\"data row1 col10\" >0.455516</td>\n",
              "      <td id=\"T_49097_row1_col11\" class=\"data row1 col11\" >0.000245</td>\n",
              "      <td id=\"T_49097_row1_col12\" class=\"data row1 col12\" >0.017525</td>\n",
              "    </tr>\n",
              "    <tr>\n",
              "      <th id=\"T_49097_level0_row2\" class=\"row_heading level0 row2\" >departure_time</th>\n",
              "      <td id=\"T_49097_row2_col0\" class=\"data row2 col0\" >0.091404</td>\n",
              "      <td id=\"T_49097_row2_col1\" class=\"data row2 col1\" >0.006443</td>\n",
              "      <td id=\"T_49097_row2_col2\" class=\"data row2 col2\" >1.000000</td>\n",
              "      <td id=\"T_49097_row2_col3\" class=\"data row2 col3\" >0.019553</td>\n",
              "      <td id=\"T_49097_row2_col4\" class=\"data row2 col4\" >0.040011</td>\n",
              "      <td id=\"T_49097_row2_col5\" class=\"data row2 col5\" >0.011299</td>\n",
              "      <td id=\"T_49097_row2_col6\" class=\"data row2 col6\" >0.057410</td>\n",
              "      <td id=\"T_49097_row2_col7\" class=\"data row2 col7\" >0.091432</td>\n",
              "      <td id=\"T_49097_row2_col8\" class=\"data row2 col8\" >0.006627</td>\n",
              "      <td id=\"T_49097_row2_col9\" class=\"data row2 col9\" >0.058520</td>\n",
              "      <td id=\"T_49097_row2_col10\" class=\"data row2 col10\" >0.009892</td>\n",
              "      <td id=\"T_49097_row2_col11\" class=\"data row2 col11\" >0.986435</td>\n",
              "      <td id=\"T_49097_row2_col12\" class=\"data row2 col12\" >0.046839</td>\n",
              "    </tr>\n",
              "    <tr>\n",
              "      <th id=\"T_49097_level0_row3\" class=\"row_heading level0 row3\" >stops</th>\n",
              "      <td id=\"T_49097_row3_col0\" class=\"data row3 col0\" >0.136875</td>\n",
              "      <td id=\"T_49097_row3_col1\" class=\"data row3 col1\" >0.002982</td>\n",
              "      <td id=\"T_49097_row3_col2\" class=\"data row3 col2\" >0.019553</td>\n",
              "      <td id=\"T_49097_row3_col3\" class=\"data row3 col3\" >1.000000</td>\n",
              "      <td id=\"T_49097_row3_col4\" class=\"data row3 col4\" >0.007015</td>\n",
              "      <td id=\"T_49097_row3_col5\" class=\"data row3 col5\" >0.015075</td>\n",
              "      <td id=\"T_49097_row3_col6\" class=\"data row3 col6\" >0.096970</td>\n",
              "      <td id=\"T_49097_row3_col7\" class=\"data row3 col7\" >0.480818</td>\n",
              "      <td id=\"T_49097_row3_col8\" class=\"data row3 col8\" >0.023782</td>\n",
              "      <td id=\"T_49097_row3_col9\" class=\"data row3 col9\" >0.201309</td>\n",
              "      <td id=\"T_49097_row3_col10\" class=\"data row3 col10\" >0.015417</td>\n",
              "      <td id=\"T_49097_row3_col11\" class=\"data row3 col11\" >0.018264</td>\n",
              "      <td id=\"T_49097_row3_col12\" class=\"data row3 col12\" >0.030064</td>\n",
              "    </tr>\n",
              "    <tr>\n",
              "      <th id=\"T_49097_level0_row4\" class=\"row_heading level0 row4\" >arrival_time</th>\n",
              "      <td id=\"T_49097_row4_col0\" class=\"data row4 col0\" >0.052658</td>\n",
              "      <td id=\"T_49097_row4_col1\" class=\"data row4 col1\" >0.037453</td>\n",
              "      <td id=\"T_49097_row4_col2\" class=\"data row4 col2\" >0.040011</td>\n",
              "      <td id=\"T_49097_row4_col3\" class=\"data row4 col3\" >0.007015</td>\n",
              "      <td id=\"T_49097_row4_col4\" class=\"data row4 col4\" >1.000000</td>\n",
              "      <td id=\"T_49097_row4_col5\" class=\"data row4 col5\" >0.031399</td>\n",
              "      <td id=\"T_49097_row4_col6\" class=\"data row4 col6\" >0.035101</td>\n",
              "      <td id=\"T_49097_row4_col7\" class=\"data row4 col7\" >0.011622</td>\n",
              "      <td id=\"T_49097_row4_col8\" class=\"data row4 col8\" >0.010408</td>\n",
              "      <td id=\"T_49097_row4_col9\" class=\"data row4 col9\" >0.046801</td>\n",
              "      <td id=\"T_49097_row4_col10\" class=\"data row4 col10\" >0.004624</td>\n",
              "      <td id=\"T_49097_row4_col11\" class=\"data row4 col11\" >0.124553</td>\n",
              "      <td id=\"T_49097_row4_col12\" class=\"data row4 col12\" >0.035276</td>\n",
              "    </tr>\n",
              "    <tr>\n",
              "      <th id=\"T_49097_level0_row5\" class=\"row_heading level0 row5\" >destination_city</th>\n",
              "      <td id=\"T_49097_row5_col0\" class=\"data row5 col0\" >0.027706</td>\n",
              "      <td id=\"T_49097_row5_col1\" class=\"data row5 col1\" >0.231524</td>\n",
              "      <td id=\"T_49097_row5_col2\" class=\"data row5 col2\" >0.011299</td>\n",
              "      <td id=\"T_49097_row5_col3\" class=\"data row5 col3\" >0.015075</td>\n",
              "      <td id=\"T_49097_row5_col4\" class=\"data row5 col4\" >0.031399</td>\n",
              "      <td id=\"T_49097_row5_col5\" class=\"data row5 col5\" >1.000000</td>\n",
              "      <td id=\"T_49097_row5_col6\" class=\"data row5 col6\" >0.002545</td>\n",
              "      <td id=\"T_49097_row5_col7\" class=\"data row5 col7\" >0.012434</td>\n",
              "      <td id=\"T_49097_row5_col8\" class=\"data row5 col8\" >0.011963</td>\n",
              "      <td id=\"T_49097_row5_col9\" class=\"data row5 col9\" >0.008747</td>\n",
              "      <td id=\"T_49097_row5_col10\" class=\"data row5 col10\" >0.458836</td>\n",
              "      <td id=\"T_49097_row5_col11\" class=\"data row5 col11\" >0.006062</td>\n",
              "      <td id=\"T_49097_row5_col12\" class=\"data row5 col12\" >0.035157</td>\n",
              "    </tr>\n",
              "    <tr>\n",
              "      <th id=\"T_49097_level0_row6\" class=\"row_heading level0 row6\" >class</th>\n",
              "      <td id=\"T_49097_row6_col0\" class=\"data row6 col0\" >0.398738</td>\n",
              "      <td id=\"T_49097_row6_col1\" class=\"data row6 col1\" >0.007379</td>\n",
              "      <td id=\"T_49097_row6_col2\" class=\"data row6 col2\" >0.057410</td>\n",
              "      <td id=\"T_49097_row6_col3\" class=\"data row6 col3\" >0.096970</td>\n",
              "      <td id=\"T_49097_row6_col4\" class=\"data row6 col4\" >0.035101</td>\n",
              "      <td id=\"T_49097_row6_col5\" class=\"data row6 col5\" >0.002545</td>\n",
              "      <td id=\"T_49097_row6_col6\" class=\"data row6 col6\" >1.000000</td>\n",
              "      <td id=\"T_49097_row6_col7\" class=\"data row6 col7\" >0.144831</td>\n",
              "      <td id=\"T_49097_row6_col8\" class=\"data row6 col8\" >0.022332</td>\n",
              "      <td id=\"T_49097_row6_col9\" class=\"data row6 col9\" >0.937868</td>\n",
              "      <td id=\"T_49097_row6_col10\" class=\"data row6 col10\" >0.014704</td>\n",
              "      <td id=\"T_49097_row6_col11\" class=\"data row6 col11\" >0.062775</td>\n",
              "      <td id=\"T_49097_row6_col12\" class=\"data row6 col12\" >0.017397</td>\n",
              "    </tr>\n",
              "    <tr>\n",
              "      <th id=\"T_49097_level0_row7\" class=\"row_heading level0 row7\" >duration</th>\n",
              "      <td id=\"T_49097_row7_col0\" class=\"data row7 col0\" >0.251252</td>\n",
              "      <td id=\"T_49097_row7_col1\" class=\"data row7 col1\" >0.006542</td>\n",
              "      <td id=\"T_49097_row7_col2\" class=\"data row7 col2\" >0.091432</td>\n",
              "      <td id=\"T_49097_row7_col3\" class=\"data row7 col3\" >0.480818</td>\n",
              "      <td id=\"T_49097_row7_col4\" class=\"data row7 col4\" >0.011622</td>\n",
              "      <td id=\"T_49097_row7_col5\" class=\"data row7 col5\" >0.012434</td>\n",
              "      <td id=\"T_49097_row7_col6\" class=\"data row7 col6\" >0.144831</td>\n",
              "      <td id=\"T_49097_row7_col7\" class=\"data row7 col7\" >1.000000</td>\n",
              "      <td id=\"T_49097_row7_col8\" class=\"data row7 col8\" >0.020091</td>\n",
              "      <td id=\"T_49097_row7_col9\" class=\"data row7 col9\" >0.213158</td>\n",
              "      <td id=\"T_49097_row7_col10\" class=\"data row7 col10\" >0.004910</td>\n",
              "      <td id=\"T_49097_row7_col11\" class=\"data row7 col11\" >0.092703</td>\n",
              "      <td id=\"T_49097_row7_col12\" class=\"data row7 col12\" >0.001395</td>\n",
              "    </tr>\n",
              "    <tr>\n",
              "      <th id=\"T_49097_level0_row8\" class=\"row_heading level0 row8\" >days_left</th>\n",
              "      <td id=\"T_49097_row8_col0\" class=\"data row8 col0\" >0.027813</td>\n",
              "      <td id=\"T_49097_row8_col1\" class=\"data row8 col1\" >0.003307</td>\n",
              "      <td id=\"T_49097_row8_col2\" class=\"data row8 col2\" >0.006627</td>\n",
              "      <td id=\"T_49097_row8_col3\" class=\"data row8 col3\" >0.023782</td>\n",
              "      <td id=\"T_49097_row8_col4\" class=\"data row8 col4\" >0.010408</td>\n",
              "      <td id=\"T_49097_row8_col5\" class=\"data row8 col5\" >0.011963</td>\n",
              "      <td id=\"T_49097_row8_col6\" class=\"data row8 col6\" >0.022332</td>\n",
              "      <td id=\"T_49097_row8_col7\" class=\"data row8 col7\" >0.020091</td>\n",
              "      <td id=\"T_49097_row8_col8\" class=\"data row8 col8\" >1.000000</td>\n",
              "      <td id=\"T_49097_row8_col9\" class=\"data row8 col9\" >0.102545</td>\n",
              "      <td id=\"T_49097_row8_col10\" class=\"data row8 col10\" >0.003198</td>\n",
              "      <td id=\"T_49097_row8_col11\" class=\"data row8 col11\" >0.004871</td>\n",
              "      <td id=\"T_49097_row8_col12\" class=\"data row8 col12\" >0.022588</td>\n",
              "    </tr>\n",
              "    <tr>\n",
              "      <th id=\"T_49097_level0_row9\" class=\"row_heading level0 row9\" >price</th>\n",
              "      <td id=\"T_49097_row9_col0\" class=\"data row9 col0\" >0.424242</td>\n",
              "      <td id=\"T_49097_row9_col1\" class=\"data row9 col1\" >0.013570</td>\n",
              "      <td id=\"T_49097_row9_col2\" class=\"data row9 col2\" >0.058520</td>\n",
              "      <td id=\"T_49097_row9_col3\" class=\"data row9 col3\" >0.201309</td>\n",
              "      <td id=\"T_49097_row9_col4\" class=\"data row9 col4\" >0.046801</td>\n",
              "      <td id=\"T_49097_row9_col5\" class=\"data row9 col5\" >0.008747</td>\n",
              "      <td id=\"T_49097_row9_col6\" class=\"data row9 col6\" >0.937868</td>\n",
              "      <td id=\"T_49097_row9_col7\" class=\"data row9 col7\" >0.213158</td>\n",
              "      <td id=\"T_49097_row9_col8\" class=\"data row9 col8\" >0.102545</td>\n",
              "      <td id=\"T_49097_row9_col9\" class=\"data row9 col9\" >1.000000</td>\n",
              "      <td id=\"T_49097_row9_col10\" class=\"data row9 col10\" >0.028328</td>\n",
              "      <td id=\"T_49097_row9_col11\" class=\"data row9 col11\" >0.065800</td>\n",
              "      <td id=\"T_49097_row9_col12\" class=\"data row9 col12\" >0.096603</td>\n",
              "    </tr>\n",
              "    <tr>\n",
              "      <th id=\"T_49097_level0_row10\" class=\"row_heading level0 row10\" >Trip</th>\n",
              "      <td id=\"T_49097_row10_col0\" class=\"data row10 col0\" >0.040812</td>\n",
              "      <td id=\"T_49097_row10_col1\" class=\"data row10 col1\" >0.455516</td>\n",
              "      <td id=\"T_49097_row10_col2\" class=\"data row10 col2\" >0.009892</td>\n",
              "      <td id=\"T_49097_row10_col3\" class=\"data row10 col3\" >0.015417</td>\n",
              "      <td id=\"T_49097_row10_col4\" class=\"data row10 col4\" >0.004624</td>\n",
              "      <td id=\"T_49097_row10_col5\" class=\"data row10 col5\" >0.458836</td>\n",
              "      <td id=\"T_49097_row10_col6\" class=\"data row10 col6\" >0.014704</td>\n",
              "      <td id=\"T_49097_row10_col7\" class=\"data row10 col7\" >0.004910</td>\n",
              "      <td id=\"T_49097_row10_col8\" class=\"data row10 col8\" >0.003198</td>\n",
              "      <td id=\"T_49097_row10_col9\" class=\"data row10 col9\" >0.028328</td>\n",
              "      <td id=\"T_49097_row10_col10\" class=\"data row10 col10\" >1.000000</td>\n",
              "      <td id=\"T_49097_row10_col11\" class=\"data row10 col11\" >0.010583</td>\n",
              "      <td id=\"T_49097_row10_col12\" class=\"data row10 col12\" >0.055635</td>\n",
              "    </tr>\n",
              "    <tr>\n",
              "      <th id=\"T_49097_level0_row11\" class=\"row_heading level0 row11\" >Time</th>\n",
              "      <td id=\"T_49097_row11_col0\" class=\"data row11 col0\" >0.099416</td>\n",
              "      <td id=\"T_49097_row11_col1\" class=\"data row11 col1\" >0.000245</td>\n",
              "      <td id=\"T_49097_row11_col2\" class=\"data row11 col2\" >0.986435</td>\n",
              "      <td id=\"T_49097_row11_col3\" class=\"data row11 col3\" >0.018264</td>\n",
              "      <td id=\"T_49097_row11_col4\" class=\"data row11 col4\" >0.124553</td>\n",
              "      <td id=\"T_49097_row11_col5\" class=\"data row11 col5\" >0.006062</td>\n",
              "      <td id=\"T_49097_row11_col6\" class=\"data row11 col6\" >0.062775</td>\n",
              "      <td id=\"T_49097_row11_col7\" class=\"data row11 col7\" >0.092703</td>\n",
              "      <td id=\"T_49097_row11_col8\" class=\"data row11 col8\" >0.004871</td>\n",
              "      <td id=\"T_49097_row11_col9\" class=\"data row11 col9\" >0.065800</td>\n",
              "      <td id=\"T_49097_row11_col10\" class=\"data row11 col10\" >0.010583</td>\n",
              "      <td id=\"T_49097_row11_col11\" class=\"data row11 col11\" >1.000000</td>\n",
              "      <td id=\"T_49097_row11_col12\" class=\"data row11 col12\" >0.052307</td>\n",
              "    </tr>\n",
              "    <tr>\n",
              "      <th id=\"T_49097_level0_row12\" class=\"row_heading level0 row12\" >airline_class</th>\n",
              "      <td id=\"T_49097_row12_col0\" class=\"data row12 col0\" >0.509400</td>\n",
              "      <td id=\"T_49097_row12_col1\" class=\"data row12 col1\" >0.017525</td>\n",
              "      <td id=\"T_49097_row12_col2\" class=\"data row12 col2\" >0.046839</td>\n",
              "      <td id=\"T_49097_row12_col3\" class=\"data row12 col3\" >0.030064</td>\n",
              "      <td id=\"T_49097_row12_col4\" class=\"data row12 col4\" >0.035276</td>\n",
              "      <td id=\"T_49097_row12_col5\" class=\"data row12 col5\" >0.035157</td>\n",
              "      <td id=\"T_49097_row12_col6\" class=\"data row12 col6\" >0.017397</td>\n",
              "      <td id=\"T_49097_row12_col7\" class=\"data row12 col7\" >0.001395</td>\n",
              "      <td id=\"T_49097_row12_col8\" class=\"data row12 col8\" >0.022588</td>\n",
              "      <td id=\"T_49097_row12_col9\" class=\"data row12 col9\" >0.096603</td>\n",
              "      <td id=\"T_49097_row12_col10\" class=\"data row12 col10\" >0.055635</td>\n",
              "      <td id=\"T_49097_row12_col11\" class=\"data row12 col11\" >0.052307</td>\n",
              "      <td id=\"T_49097_row12_col12\" class=\"data row12 col12\" >1.000000</td>\n",
              "    </tr>\n",
              "  </tbody>\n",
              "</table>\n"
            ]
          },
          "metadata": {},
          "execution_count": 294
        }
      ]
    },
    {
      "cell_type": "code",
      "source": [
        "data_train.head()"
      ],
      "metadata": {
        "colab": {
          "base_uri": "https://localhost:8080/",
          "height": 290
        },
        "id": "ekIe8JbP_5dC",
        "outputId": "b5ecbb57-5f9f-4724-c67b-c92d9382b05f"
      },
      "execution_count": 295,
      "outputs": [
        {
          "output_type": "execute_result",
          "data": {
            "text/plain": [
              "    airline   flight  source_city  departure_time  stops  arrival_time  \\\n",
              "id                                                                       \n",
              "1         6   UK-810            0               1      0             5   \n",
              "2         1  SG-5094            3               2      2             5   \n",
              "3         6   UK-846            0               4      0             2   \n",
              "4         6   UK-706            4               4      0             2   \n",
              "5         4  6E-5394            1               1      2             4   \n",
              "\n",
              "    destination_city  class  duration  days_left  price  Trip  Time  \\\n",
              "id                                                                    \n",
              "1                  5      1     14.25         21   7212    13    11   \n",
              "2                  4      1      1.75          7   5292    11    17   \n",
              "3                  2      0      9.58          5  60553     1    26   \n",
              "4                  3      1      6.75         28   5760    11    26   \n",
              "5                  5      1      2.00          4  10712     4    10   \n",
              "\n",
              "    airline_class  \n",
              "id                 \n",
              "1               7  \n",
              "2               5  \n",
              "3               6  \n",
              "4               7  \n",
              "5               4  "
            ],
            "text/html": [
              "\n",
              "  <div id=\"df-b03e22ec-050f-44e0-af98-33cbd4b4909c\">\n",
              "    <div class=\"colab-df-container\">\n",
              "      <div>\n",
              "<style scoped>\n",
              "    .dataframe tbody tr th:only-of-type {\n",
              "        vertical-align: middle;\n",
              "    }\n",
              "\n",
              "    .dataframe tbody tr th {\n",
              "        vertical-align: top;\n",
              "    }\n",
              "\n",
              "    .dataframe thead th {\n",
              "        text-align: right;\n",
              "    }\n",
              "</style>\n",
              "<table border=\"1\" class=\"dataframe\">\n",
              "  <thead>\n",
              "    <tr style=\"text-align: right;\">\n",
              "      <th></th>\n",
              "      <th>airline</th>\n",
              "      <th>flight</th>\n",
              "      <th>source_city</th>\n",
              "      <th>departure_time</th>\n",
              "      <th>stops</th>\n",
              "      <th>arrival_time</th>\n",
              "      <th>destination_city</th>\n",
              "      <th>class</th>\n",
              "      <th>duration</th>\n",
              "      <th>days_left</th>\n",
              "      <th>price</th>\n",
              "      <th>Trip</th>\n",
              "      <th>Time</th>\n",
              "      <th>airline_class</th>\n",
              "    </tr>\n",
              "    <tr>\n",
              "      <th>id</th>\n",
              "      <th></th>\n",
              "      <th></th>\n",
              "      <th></th>\n",
              "      <th></th>\n",
              "      <th></th>\n",
              "      <th></th>\n",
              "      <th></th>\n",
              "      <th></th>\n",
              "      <th></th>\n",
              "      <th></th>\n",
              "      <th></th>\n",
              "      <th></th>\n",
              "      <th></th>\n",
              "      <th></th>\n",
              "    </tr>\n",
              "  </thead>\n",
              "  <tbody>\n",
              "    <tr>\n",
              "      <th>1</th>\n",
              "      <td>6</td>\n",
              "      <td>UK-810</td>\n",
              "      <td>0</td>\n",
              "      <td>1</td>\n",
              "      <td>0</td>\n",
              "      <td>5</td>\n",
              "      <td>5</td>\n",
              "      <td>1</td>\n",
              "      <td>14.25</td>\n",
              "      <td>21</td>\n",
              "      <td>7212</td>\n",
              "      <td>13</td>\n",
              "      <td>11</td>\n",
              "      <td>7</td>\n",
              "    </tr>\n",
              "    <tr>\n",
              "      <th>2</th>\n",
              "      <td>1</td>\n",
              "      <td>SG-5094</td>\n",
              "      <td>3</td>\n",
              "      <td>2</td>\n",
              "      <td>2</td>\n",
              "      <td>5</td>\n",
              "      <td>4</td>\n",
              "      <td>1</td>\n",
              "      <td>1.75</td>\n",
              "      <td>7</td>\n",
              "      <td>5292</td>\n",
              "      <td>11</td>\n",
              "      <td>17</td>\n",
              "      <td>5</td>\n",
              "    </tr>\n",
              "    <tr>\n",
              "      <th>3</th>\n",
              "      <td>6</td>\n",
              "      <td>UK-846</td>\n",
              "      <td>0</td>\n",
              "      <td>4</td>\n",
              "      <td>0</td>\n",
              "      <td>2</td>\n",
              "      <td>2</td>\n",
              "      <td>0</td>\n",
              "      <td>9.58</td>\n",
              "      <td>5</td>\n",
              "      <td>60553</td>\n",
              "      <td>1</td>\n",
              "      <td>26</td>\n",
              "      <td>6</td>\n",
              "    </tr>\n",
              "    <tr>\n",
              "      <th>4</th>\n",
              "      <td>6</td>\n",
              "      <td>UK-706</td>\n",
              "      <td>4</td>\n",
              "      <td>4</td>\n",
              "      <td>0</td>\n",
              "      <td>2</td>\n",
              "      <td>3</td>\n",
              "      <td>1</td>\n",
              "      <td>6.75</td>\n",
              "      <td>28</td>\n",
              "      <td>5760</td>\n",
              "      <td>11</td>\n",
              "      <td>26</td>\n",
              "      <td>7</td>\n",
              "    </tr>\n",
              "    <tr>\n",
              "      <th>5</th>\n",
              "      <td>4</td>\n",
              "      <td>6E-5394</td>\n",
              "      <td>1</td>\n",
              "      <td>1</td>\n",
              "      <td>2</td>\n",
              "      <td>4</td>\n",
              "      <td>5</td>\n",
              "      <td>1</td>\n",
              "      <td>2.00</td>\n",
              "      <td>4</td>\n",
              "      <td>10712</td>\n",
              "      <td>4</td>\n",
              "      <td>10</td>\n",
              "      <td>4</td>\n",
              "    </tr>\n",
              "  </tbody>\n",
              "</table>\n",
              "</div>\n",
              "      <button class=\"colab-df-convert\" onclick=\"convertToInteractive('df-b03e22ec-050f-44e0-af98-33cbd4b4909c')\"\n",
              "              title=\"Convert this dataframe to an interactive table.\"\n",
              "              style=\"display:none;\">\n",
              "        \n",
              "  <svg xmlns=\"http://www.w3.org/2000/svg\" height=\"24px\"viewBox=\"0 0 24 24\"\n",
              "       width=\"24px\">\n",
              "    <path d=\"M0 0h24v24H0V0z\" fill=\"none\"/>\n",
              "    <path d=\"M18.56 5.44l.94 2.06.94-2.06 2.06-.94-2.06-.94-.94-2.06-.94 2.06-2.06.94zm-11 1L8.5 8.5l.94-2.06 2.06-.94-2.06-.94L8.5 2.5l-.94 2.06-2.06.94zm10 10l.94 2.06.94-2.06 2.06-.94-2.06-.94-.94-2.06-.94 2.06-2.06.94z\"/><path d=\"M17.41 7.96l-1.37-1.37c-.4-.4-.92-.59-1.43-.59-.52 0-1.04.2-1.43.59L10.3 9.45l-7.72 7.72c-.78.78-.78 2.05 0 2.83L4 21.41c.39.39.9.59 1.41.59.51 0 1.02-.2 1.41-.59l7.78-7.78 2.81-2.81c.8-.78.8-2.07 0-2.86zM5.41 20L4 18.59l7.72-7.72 1.47 1.35L5.41 20z\"/>\n",
              "  </svg>\n",
              "      </button>\n",
              "      \n",
              "  <style>\n",
              "    .colab-df-container {\n",
              "      display:flex;\n",
              "      flex-wrap:wrap;\n",
              "      gap: 12px;\n",
              "    }\n",
              "\n",
              "    .colab-df-convert {\n",
              "      background-color: #E8F0FE;\n",
              "      border: none;\n",
              "      border-radius: 50%;\n",
              "      cursor: pointer;\n",
              "      display: none;\n",
              "      fill: #1967D2;\n",
              "      height: 32px;\n",
              "      padding: 0 0 0 0;\n",
              "      width: 32px;\n",
              "    }\n",
              "\n",
              "    .colab-df-convert:hover {\n",
              "      background-color: #E2EBFA;\n",
              "      box-shadow: 0px 1px 2px rgba(60, 64, 67, 0.3), 0px 1px 3px 1px rgba(60, 64, 67, 0.15);\n",
              "      fill: #174EA6;\n",
              "    }\n",
              "\n",
              "    [theme=dark] .colab-df-convert {\n",
              "      background-color: #3B4455;\n",
              "      fill: #D2E3FC;\n",
              "    }\n",
              "\n",
              "    [theme=dark] .colab-df-convert:hover {\n",
              "      background-color: #434B5C;\n",
              "      box-shadow: 0px 1px 3px 1px rgba(0, 0, 0, 0.15);\n",
              "      filter: drop-shadow(0px 1px 2px rgba(0, 0, 0, 0.3));\n",
              "      fill: #FFFFFF;\n",
              "    }\n",
              "  </style>\n",
              "\n",
              "      <script>\n",
              "        const buttonEl =\n",
              "          document.querySelector('#df-b03e22ec-050f-44e0-af98-33cbd4b4909c button.colab-df-convert');\n",
              "        buttonEl.style.display =\n",
              "          google.colab.kernel.accessAllowed ? 'block' : 'none';\n",
              "\n",
              "        async function convertToInteractive(key) {\n",
              "          const element = document.querySelector('#df-b03e22ec-050f-44e0-af98-33cbd4b4909c');\n",
              "          const dataTable =\n",
              "            await google.colab.kernel.invokeFunction('convertToInteractive',\n",
              "                                                     [key], {});\n",
              "          if (!dataTable) return;\n",
              "\n",
              "          const docLinkHtml = 'Like what you see? Visit the ' +\n",
              "            '<a target=\"_blank\" href=https://colab.research.google.com/notebooks/data_table.ipynb>data table notebook</a>'\n",
              "            + ' to learn more about interactive tables.';\n",
              "          element.innerHTML = '';\n",
              "          dataTable['output_type'] = 'display_data';\n",
              "          await google.colab.output.renderOutput(dataTable, element);\n",
              "          const docLink = document.createElement('div');\n",
              "          docLink.innerHTML = docLinkHtml;\n",
              "          element.appendChild(docLink);\n",
              "        }\n",
              "      </script>\n",
              "    </div>\n",
              "  </div>\n",
              "  "
            ]
          },
          "metadata": {},
          "execution_count": 295
        }
      ]
    },
    {
      "cell_type": "code",
      "source": [
        "data_train.isnull().sum()"
      ],
      "metadata": {
        "colab": {
          "base_uri": "https://localhost:8080/"
        },
        "id": "adXdbk-OdETi",
        "outputId": "d6716c74-58fc-4f6f-b257-cbc2ab0851ce"
      },
      "execution_count": 296,
      "outputs": [
        {
          "output_type": "execute_result",
          "data": {
            "text/plain": [
              "airline             0\n",
              "flight              0\n",
              "source_city         0\n",
              "departure_time      0\n",
              "stops               0\n",
              "arrival_time        0\n",
              "destination_city    0\n",
              "class               0\n",
              "duration            0\n",
              "days_left           0\n",
              "price               0\n",
              "Trip                0\n",
              "Time                0\n",
              "airline_class       0\n",
              "dtype: int64"
            ]
          },
          "metadata": {},
          "execution_count": 296
        }
      ]
    },
    {
      "cell_type": "code",
      "source": [
        ""
      ],
      "metadata": {
        "id": "WOcZp2aLcyt-"
      },
      "execution_count": 296,
      "outputs": []
    },
    {
      "cell_type": "code",
      "source": [
        "X = data_train.drop(['flight','price'], axis=1)\n",
        "\n",
        "\n",
        "y = data_train[\"price\"].copy()\n",
        "\n",
        "\n"
      ],
      "metadata": {
        "id": "EHq1cgi8CnTX"
      },
      "execution_count": 297,
      "outputs": []
    },
    {
      "cell_type": "code",
      "source": [
        "X.columns"
      ],
      "metadata": {
        "colab": {
          "base_uri": "https://localhost:8080/"
        },
        "id": "X5oisFEoDXd8",
        "outputId": "4ae4649f-3deb-4aa1-b7d8-76c16438bea7"
      },
      "execution_count": 298,
      "outputs": [
        {
          "output_type": "execute_result",
          "data": {
            "text/plain": [
              "Index(['airline', 'source_city', 'departure_time', 'stops', 'arrival_time',\n",
              "       'destination_city', 'class', 'duration', 'days_left', 'Trip', 'Time',\n",
              "       'airline_class'],\n",
              "      dtype='object')"
            ]
          },
          "metadata": {},
          "execution_count": 298
        }
      ]
    },
    {
      "cell_type": "code",
      "source": [
        "X.info()"
      ],
      "metadata": {
        "colab": {
          "base_uri": "https://localhost:8080/"
        },
        "id": "fdnVf8-ncYkh",
        "outputId": "c78246b2-3997-4ee3-eb68-054f222c13c3"
      },
      "execution_count": 299,
      "outputs": [
        {
          "output_type": "stream",
          "name": "stdout",
          "text": [
            "<class 'pandas.core.frame.DataFrame'>\n",
            "Int64Index: 20000 entries, 1 to 20000\n",
            "Data columns (total 12 columns):\n",
            " #   Column            Non-Null Count  Dtype  \n",
            "---  ------            --------------  -----  \n",
            " 0   airline           20000 non-null  int64  \n",
            " 1   source_city       20000 non-null  int64  \n",
            " 2   departure_time    20000 non-null  int64  \n",
            " 3   stops             20000 non-null  int64  \n",
            " 4   arrival_time      20000 non-null  int64  \n",
            " 5   destination_city  20000 non-null  int64  \n",
            " 6   class             20000 non-null  int64  \n",
            " 7   duration          20000 non-null  float64\n",
            " 8   days_left         20000 non-null  int64  \n",
            " 9   Trip              20000 non-null  int64  \n",
            " 10  Time              20000 non-null  int64  \n",
            " 11  airline_class     20000 non-null  int64  \n",
            "dtypes: float64(1), int64(11)\n",
            "memory usage: 2.0 MB\n"
          ]
        }
      ]
    },
    {
      "cell_type": "code",
      "source": [
        "from sklearn.covariance import EllipticEnvelope\n",
        "# identify outliers in the training dataset\n",
        "ee = EllipticEnvelope(contamination=0.01)\n",
        "yhat = ee.fit_predict(X)"
      ],
      "metadata": {
        "colab": {
          "base_uri": "https://localhost:8080/"
        },
        "id": "ruaNARx7rfkS",
        "outputId": "0ee6ac30-707a-4ec7-b2cf-3b977778191a"
      },
      "execution_count": 300,
      "outputs": [
        {
          "output_type": "stream",
          "name": "stderr",
          "text": [
            "/usr/local/lib/python3.7/dist-packages/sklearn/covariance/_robust_covariance.py:739: UserWarning: The covariance matrix associated to your dataset is not full rank\n",
            "  \"The covariance matrix associated to your dataset is not full rank\"\n",
            "/usr/local/lib/python3.7/dist-packages/sklearn/covariance/_robust_covariance.py:189: RuntimeWarning: Determinant has increased; this should not happen: log(det) > log(previous_det) (-20.823731193105566 > -56.801581304525584). You may want to try with a higher value of support_fraction (current value: 0.502).\n",
            "  RuntimeWarning,\n",
            "/usr/local/lib/python3.7/dist-packages/sklearn/covariance/_robust_covariance.py:189: RuntimeWarning: Determinant has increased; this should not happen: log(det) > log(previous_det) (-22.619007984326419 > -22.884354750024738). You may want to try with a higher value of support_fraction (current value: 0.502).\n",
            "  RuntimeWarning,\n",
            "/usr/local/lib/python3.7/dist-packages/sklearn/covariance/_robust_covariance.py:189: RuntimeWarning: Determinant has increased; this should not happen: log(det) > log(previous_det) (-21.138163612614814 > -23.257369993099388). You may want to try with a higher value of support_fraction (current value: 0.502).\n",
            "  RuntimeWarning,\n",
            "/usr/local/lib/python3.7/dist-packages/sklearn/covariance/_robust_covariance.py:189: RuntimeWarning: Determinant has increased; this should not happen: log(det) > log(previous_det) (-19.467591065789168 > -50.201879202521788). You may want to try with a higher value of support_fraction (current value: 0.502).\n",
            "  RuntimeWarning,\n",
            "/usr/local/lib/python3.7/dist-packages/sklearn/covariance/_robust_covariance.py:189: RuntimeWarning: Determinant has increased; this should not happen: log(det) > log(previous_det) (-20.676832827858565 > -20.697658459217070). You may want to try with a higher value of support_fraction (current value: 0.502).\n",
            "  RuntimeWarning,\n",
            "/usr/local/lib/python3.7/dist-packages/sklearn/covariance/_robust_covariance.py:189: RuntimeWarning: Determinant has increased; this should not happen: log(det) > log(previous_det) (-20.448385915284003 > -54.232631925444871). You may want to try with a higher value of support_fraction (current value: 0.502).\n",
            "  RuntimeWarning,\n",
            "/usr/local/lib/python3.7/dist-packages/sklearn/covariance/_robust_covariance.py:189: RuntimeWarning: Determinant has increased; this should not happen: log(det) > log(previous_det) (-19.069650674299897 > -20.879173516690368). You may want to try with a higher value of support_fraction (current value: 0.501).\n",
            "  RuntimeWarning,\n"
          ]
        }
      ]
    },
    {
      "cell_type": "code",
      "source": [
        "# Normalizing test data\n",
        "standart_scaler = StandardScaler()\n",
        "standart_scaler.fit_transform(X)\n",
        "X=standart_scaler.fit_transform(X)"
      ],
      "metadata": {
        "id": "17SaTU_uDvXV"
      },
      "execution_count": 301,
      "outputs": []
    },
    {
      "cell_type": "markdown",
      "source": [
        "Preprocessing test data"
      ],
      "metadata": {
        "id": "omxKgMnANw6J"
      }
    },
    {
      "cell_type": "code",
      "source": [
        "# Preprocessing test data\n",
        "\n",
        "test_data['Trip']=test_data['source_city']+\"_\"+test_data['destination_city']\n",
        "\n",
        "test_data['Trip']= test_data['Trip'].replace('Delhi_Mumbai','Mumbai_Delhi')\n",
        "test_data['Trip']= test_data['Trip'].replace('Delhi_Bangalore','Bangalore_Delhi')\n",
        "test_data['Trip']= test_data['Trip'].replace('Bangalore_Mumbai','Mumbai_Bangalore')\n",
        "test_data['Trip']= test_data['Trip'].replace('Mumbai_Kolkata','Kolkata_Mumbai')\n",
        "test_data['Trip']= test_data['Trip'].replace('Delhi_Kolkata','Kolkata_Delhi')\n",
        "test_data['Trip']= test_data['Trip'].replace('Delhi_Chennai','Chennai_Delhi')\n",
        "test_data['Trip']= test_data['Trip'].replace('Mumbai_Hyderabad','Hyderabad_Mumbai')\n",
        "test_data['Trip']= test_data['Trip'].replace('Mumbai_Chennai','Chennai_Mumbai')\n",
        "test_data['Trip']= test_data['Trip'].replace('Bangalore_Kolkata','Kolkata_Bangalore')\n",
        "test_data['Trip']= test_data['Trip'].replace('Delhi_Hyderabad','Hyderabad_Delhi')\n",
        "test_data['Trip']= test_data['Trip'].replace('Bangalore_Hyderabad','Hyderabad_Bangalore')\n",
        "test_data['Trip']= test_data['Trip'].replace('Hyderabad_Kolkata','Kolkata_Hyderabad')\n",
        "test_data['Trip']= test_data['Trip'].replace('Chennai_Kolkata','Kolkata_Chennai')\n",
        "test_data['Trip']= test_data['Trip'].replace('Chennai_Bangalore','Bangalore_Chennai')\n",
        "test_data['Trip']= test_data['Trip'].replace('Hyderabad_Chennai','Chennai_Hyderabad') \n",
        "\n",
        "\n",
        "\n",
        "test_data['airline_class']=test_data['class']+\"_\"+test_data['airline']\n",
        "\n",
        "test_data['Time']=test_data['departure_time']+\"_\"+test_data['arrival_time']\n",
        "\n",
        "\n",
        "\n",
        "#Filtering outliers\n",
        "\n",
        "#test_data.drop(test_data[(test_data['duration'] >35)].index, inplace=True)\n",
        "\n",
        "# Transforming categorical data \n",
        "\n",
        "# trip= test_data[[\"Trip\"]]\n",
        "# trip= pd.get_dummies(trip, drop_first= False)\n",
        "\n",
        "# As it can be observed prices differ based on airline therefore we can transfer labels into numerical values based on rankings\n",
        "\n",
        "test_data['airline']=test_data['airline'].map({'SpiceJet':1,'GO_FIRST':2,'AirAsia':3,'Indigo':4,'Air_India':5,'Vistara':6})\n",
        "\n",
        "test_data['stops']=test_data['stops'].map({'zero':1,'one':2,'two_or_more':3})\n",
        "\n",
        "# destination_city= test_data[[\"destination_city\"]]\n",
        "# destination_city= pd.get_dummies(destination_city, drop_first= False)\n",
        "\n",
        "# arrival_time= test_data[[\"arrival_time\"]]\n",
        "# arrival_time= pd.get_dummies(arrival_time, drop_first= False)\n",
        "\n",
        "# stops= test_data[[\"stops\"]]\n",
        "# stops= pd.get_dummies(stops, drop_first= False)\n",
        "\n",
        "# departure_time= test_data[[\"departure_time\"]]\n",
        "# departure_time= pd.get_dummies(departure_time, drop_first= False)\n",
        "\n",
        "# source_city= test_data[[\"source_city\"]]\n",
        "# source_city= pd.get_dummies(source_city, drop_first= False)\n",
        "\n",
        "# class_type= test_data[[\"class\"]]\n",
        "# class_type= pd.get_dummies(class_type, drop_first= False)\n",
        "\n",
        "labelencoder = LabelEncoder()\n",
        "test_data['class'] = labelencoder.fit_transform(test_data['class'].values)\n",
        "test_data['destination_city'] = labelencoder.fit_transform(test_data['destination_city'].values)\n",
        "test_data['arrival_time'] = labelencoder.fit_transform(test_data['arrival_time'].values)\n",
        "#test_data['stops'] = labelencoder.fit_transform(test_data['stops'].values)\n",
        "test_data['departure_time'] = labelencoder.fit_transform(test_data['departure_time'].values)\n",
        "test_data['source_city'] = labelencoder.fit_transform(test_data['source_city'].values)\n",
        "#test_data['airline'] = labelencoder.fit_transform(test_data['airline'].values)\n",
        "test_data['Trip'] = labelencoder.fit_transform(test_data['Trip'].values)\n",
        "test_data['Time'] = labelencoder.fit_transform(test_data['Time'].values)\n",
        "test_data['airline_class'] = labelencoder.fit_transform(test_data['airline_class'].values)\n",
        "\n",
        "\n",
        "\n",
        "\n",
        "\n",
        "# Concatenate dataframe --> train_data + airline, destination_city, arrival_time,stops,departure_time,source_city,class_type\n",
        "\n",
        "# data_test = pd.concat([test_data, arrival_time,departure_time,trip], axis =1)\n",
        "\n",
        "\n",
        "\n",
        "\n",
        "# Dropping features\n",
        "# data_test.drop([\"flight\",'Trip', \"destination_city\", \"arrival_time\",\"departure_time\",\"source_city\"], axis = 1, inplace = True)\n",
        "test_data.drop(['flight'], axis=1, inplace=True)\n",
        "\n",
        "\n",
        "\n",
        "\n",
        "\n",
        "# Normalizing test data\n",
        "standart_scaler = StandardScaler()\n",
        "standart_scaler.fit_transform(test_data)\n",
        "data_test=standart_scaler.fit_transform(test_data)"
      ],
      "metadata": {
        "id": "kJwgD3rDvB_L"
      },
      "execution_count": 302,
      "outputs": []
    },
    {
      "cell_type": "code",
      "source": [
        "test_data.head(1)"
      ],
      "metadata": {
        "id": "5xfphdR3HOX7",
        "colab": {
          "base_uri": "https://localhost:8080/",
          "height": 134
        },
        "outputId": "d34bf952-4f6b-4fc1-ca20-eb94e2fa9786"
      },
      "execution_count": 303,
      "outputs": [
        {
          "output_type": "execute_result",
          "data": {
            "text/plain": [
              "    airline  source_city  departure_time  stops  arrival_time  \\\n",
              "id                                                              \n",
              "1         5            4               2      2             5   \n",
              "\n",
              "    destination_city  class  duration  days_left  Trip  airline_class  Time  \n",
              "id                                                                           \n",
              "1                  2      0     28.25          2    10              0    17  "
            ],
            "text/html": [
              "\n",
              "  <div id=\"df-1c086bae-9b18-40e1-b4cb-00102c56af00\">\n",
              "    <div class=\"colab-df-container\">\n",
              "      <div>\n",
              "<style scoped>\n",
              "    .dataframe tbody tr th:only-of-type {\n",
              "        vertical-align: middle;\n",
              "    }\n",
              "\n",
              "    .dataframe tbody tr th {\n",
              "        vertical-align: top;\n",
              "    }\n",
              "\n",
              "    .dataframe thead th {\n",
              "        text-align: right;\n",
              "    }\n",
              "</style>\n",
              "<table border=\"1\" class=\"dataframe\">\n",
              "  <thead>\n",
              "    <tr style=\"text-align: right;\">\n",
              "      <th></th>\n",
              "      <th>airline</th>\n",
              "      <th>source_city</th>\n",
              "      <th>departure_time</th>\n",
              "      <th>stops</th>\n",
              "      <th>arrival_time</th>\n",
              "      <th>destination_city</th>\n",
              "      <th>class</th>\n",
              "      <th>duration</th>\n",
              "      <th>days_left</th>\n",
              "      <th>Trip</th>\n",
              "      <th>airline_class</th>\n",
              "      <th>Time</th>\n",
              "    </tr>\n",
              "    <tr>\n",
              "      <th>id</th>\n",
              "      <th></th>\n",
              "      <th></th>\n",
              "      <th></th>\n",
              "      <th></th>\n",
              "      <th></th>\n",
              "      <th></th>\n",
              "      <th></th>\n",
              "      <th></th>\n",
              "      <th></th>\n",
              "      <th></th>\n",
              "      <th></th>\n",
              "      <th></th>\n",
              "    </tr>\n",
              "  </thead>\n",
              "  <tbody>\n",
              "    <tr>\n",
              "      <th>1</th>\n",
              "      <td>5</td>\n",
              "      <td>4</td>\n",
              "      <td>2</td>\n",
              "      <td>2</td>\n",
              "      <td>5</td>\n",
              "      <td>2</td>\n",
              "      <td>0</td>\n",
              "      <td>28.25</td>\n",
              "      <td>2</td>\n",
              "      <td>10</td>\n",
              "      <td>0</td>\n",
              "      <td>17</td>\n",
              "    </tr>\n",
              "  </tbody>\n",
              "</table>\n",
              "</div>\n",
              "      <button class=\"colab-df-convert\" onclick=\"convertToInteractive('df-1c086bae-9b18-40e1-b4cb-00102c56af00')\"\n",
              "              title=\"Convert this dataframe to an interactive table.\"\n",
              "              style=\"display:none;\">\n",
              "        \n",
              "  <svg xmlns=\"http://www.w3.org/2000/svg\" height=\"24px\"viewBox=\"0 0 24 24\"\n",
              "       width=\"24px\">\n",
              "    <path d=\"M0 0h24v24H0V0z\" fill=\"none\"/>\n",
              "    <path d=\"M18.56 5.44l.94 2.06.94-2.06 2.06-.94-2.06-.94-.94-2.06-.94 2.06-2.06.94zm-11 1L8.5 8.5l.94-2.06 2.06-.94-2.06-.94L8.5 2.5l-.94 2.06-2.06.94zm10 10l.94 2.06.94-2.06 2.06-.94-2.06-.94-.94-2.06-.94 2.06-2.06.94z\"/><path d=\"M17.41 7.96l-1.37-1.37c-.4-.4-.92-.59-1.43-.59-.52 0-1.04.2-1.43.59L10.3 9.45l-7.72 7.72c-.78.78-.78 2.05 0 2.83L4 21.41c.39.39.9.59 1.41.59.51 0 1.02-.2 1.41-.59l7.78-7.78 2.81-2.81c.8-.78.8-2.07 0-2.86zM5.41 20L4 18.59l7.72-7.72 1.47 1.35L5.41 20z\"/>\n",
              "  </svg>\n",
              "      </button>\n",
              "      \n",
              "  <style>\n",
              "    .colab-df-container {\n",
              "      display:flex;\n",
              "      flex-wrap:wrap;\n",
              "      gap: 12px;\n",
              "    }\n",
              "\n",
              "    .colab-df-convert {\n",
              "      background-color: #E8F0FE;\n",
              "      border: none;\n",
              "      border-radius: 50%;\n",
              "      cursor: pointer;\n",
              "      display: none;\n",
              "      fill: #1967D2;\n",
              "      height: 32px;\n",
              "      padding: 0 0 0 0;\n",
              "      width: 32px;\n",
              "    }\n",
              "\n",
              "    .colab-df-convert:hover {\n",
              "      background-color: #E2EBFA;\n",
              "      box-shadow: 0px 1px 2px rgba(60, 64, 67, 0.3), 0px 1px 3px 1px rgba(60, 64, 67, 0.15);\n",
              "      fill: #174EA6;\n",
              "    }\n",
              "\n",
              "    [theme=dark] .colab-df-convert {\n",
              "      background-color: #3B4455;\n",
              "      fill: #D2E3FC;\n",
              "    }\n",
              "\n",
              "    [theme=dark] .colab-df-convert:hover {\n",
              "      background-color: #434B5C;\n",
              "      box-shadow: 0px 1px 3px 1px rgba(0, 0, 0, 0.15);\n",
              "      filter: drop-shadow(0px 1px 2px rgba(0, 0, 0, 0.3));\n",
              "      fill: #FFFFFF;\n",
              "    }\n",
              "  </style>\n",
              "\n",
              "      <script>\n",
              "        const buttonEl =\n",
              "          document.querySelector('#df-1c086bae-9b18-40e1-b4cb-00102c56af00 button.colab-df-convert');\n",
              "        buttonEl.style.display =\n",
              "          google.colab.kernel.accessAllowed ? 'block' : 'none';\n",
              "\n",
              "        async function convertToInteractive(key) {\n",
              "          const element = document.querySelector('#df-1c086bae-9b18-40e1-b4cb-00102c56af00');\n",
              "          const dataTable =\n",
              "            await google.colab.kernel.invokeFunction('convertToInteractive',\n",
              "                                                     [key], {});\n",
              "          if (!dataTable) return;\n",
              "\n",
              "          const docLinkHtml = 'Like what you see? Visit the ' +\n",
              "            '<a target=\"_blank\" href=https://colab.research.google.com/notebooks/data_table.ipynb>data table notebook</a>'\n",
              "            + ' to learn more about interactive tables.';\n",
              "          element.innerHTML = '';\n",
              "          dataTable['output_type'] = 'display_data';\n",
              "          await google.colab.output.renderOutput(dataTable, element);\n",
              "          const docLink = document.createElement('div');\n",
              "          docLink.innerHTML = docLinkHtml;\n",
              "          element.appendChild(docLink);\n",
              "        }\n",
              "      </script>\n",
              "    </div>\n",
              "  </div>\n",
              "  "
            ]
          },
          "metadata": {},
          "execution_count": 303
        }
      ]
    },
    {
      "cell_type": "code",
      "source": [
        "#data_test.isnull().sum()/len(data_test)*100"
      ],
      "metadata": {
        "id": "NZjeGf3giOb9"
      },
      "execution_count": 304,
      "outputs": []
    },
    {
      "cell_type": "markdown",
      "source": [
        "# ML"
      ],
      "metadata": {
        "id": "hHxTcqV6HGVg"
      }
    },
    {
      "cell_type": "code",
      "source": [
        "X_train, X_test, y_train, y_test = train_test_split(X, y, test_size = 0.2, random_state =45)"
      ],
      "metadata": {
        "id": "Fa2fTsXLOQzO"
      },
      "execution_count": 305,
      "outputs": []
    },
    {
      "cell_type": "markdown",
      "source": [
        "## Random Forest"
      ],
      "metadata": {
        "id": "0LIPXLdGp6mY"
      }
    },
    {
      "cell_type": "code",
      "source": [
        "reg_rf = RandomForestRegressor()\n",
        "reg_rf.fit(X_train, y_train)"
      ],
      "metadata": {
        "colab": {
          "base_uri": "https://localhost:8080/"
        },
        "id": "iVPQNTyBOQ1p",
        "outputId": "c7e9d51f-b5a0-4ecd-ef84-516fe6c87b26"
      },
      "execution_count": 306,
      "outputs": [
        {
          "output_type": "execute_result",
          "data": {
            "text/plain": [
              "RandomForestRegressor()"
            ]
          },
          "metadata": {},
          "execution_count": 306
        }
      ]
    },
    {
      "cell_type": "code",
      "source": [
        "y_pred = reg_rf.predict(X_test)\n"
      ],
      "metadata": {
        "id": "2nJm9PKoOQ4O"
      },
      "execution_count": 307,
      "outputs": []
    },
    {
      "cell_type": "code",
      "source": [
        "reg_rf.score(X_train, y_train)\n"
      ],
      "metadata": {
        "colab": {
          "base_uri": "https://localhost:8080/"
        },
        "id": "j134i5GvP_2D",
        "outputId": "a6755177-43c0-401f-b59d-51b7e251ad2b"
      },
      "execution_count": 308,
      "outputs": [
        {
          "output_type": "execute_result",
          "data": {
            "text/plain": [
              "0.9958685580742517"
            ]
          },
          "metadata": {},
          "execution_count": 308
        }
      ]
    },
    {
      "cell_type": "code",
      "source": [
        "reg_rf.score(X_test, y_test)\n"
      ],
      "metadata": {
        "colab": {
          "base_uri": "https://localhost:8080/"
        },
        "id": "8-4HY6Q_QBbr",
        "outputId": "22267a2e-a84b-4f4a-c5ad-19e289413fa4"
      },
      "execution_count": 309,
      "outputs": [
        {
          "output_type": "execute_result",
          "data": {
            "text/plain": [
              "0.9708030039985192"
            ]
          },
          "metadata": {},
          "execution_count": 309
        }
      ]
    },
    {
      "cell_type": "code",
      "source": [
        "submissionrf = reg_rf.predict(test_data)\n"
      ],
      "metadata": {
        "id": "CUggr4sCJNWw",
        "colab": {
          "base_uri": "https://localhost:8080/"
        },
        "outputId": "7607802e-391c-4a4e-fd08-f133d5ec0e31"
      },
      "execution_count": 310,
      "outputs": [
        {
          "output_type": "stream",
          "name": "stderr",
          "text": [
            "/usr/local/lib/python3.7/dist-packages/sklearn/base.py:444: UserWarning: X has feature names, but RandomForestRegressor was fitted without feature names\n",
            "  f\"X has feature names, but {self.__class__.__name__} was fitted without\"\n"
          ]
        }
      ]
    },
    {
      "cell_type": "code",
      "source": [
        "lin_mse = mean_squared_error(y_test, y_pred)\n",
        "# RMSE hisoblaymiz\n",
        "lin_rmse = np.sqrt(lin_mse)\n",
        "print(lin_rmse)"
      ],
      "metadata": {
        "colab": {
          "base_uri": "https://localhost:8080/"
        },
        "id": "bHiM8CtDrovO",
        "outputId": "00b97114-e4bd-4a72-d4d4-aed31a11f8d6"
      },
      "execution_count": 311,
      "outputs": [
        {
          "output_type": "stream",
          "name": "stdout",
          "text": [
            "3914.2855242599685\n"
          ]
        }
      ]
    },
    {
      "cell_type": "markdown",
      "source": [
        "## Evaluation\n"
      ],
      "metadata": {
        "id": "0p1tXtEmqJdJ"
      }
    },
    {
      "cell_type": "code",
      "source": [
        "print('MAE:', metrics.mean_absolute_error(y_test, y_pred))\n",
        "print('MSE:', metrics.mean_squared_error(y_test, y_pred))\n",
        "print('RMSE:', np.sqrt(metrics.mean_squared_error(y_test, y_pred)))"
      ],
      "metadata": {
        "id": "T7PbWZ-py6-9",
        "colab": {
          "base_uri": "https://localhost:8080/"
        },
        "outputId": "4915ffcb-7b39-4cd5-b666-b16d53557e7b"
      },
      "execution_count": 312,
      "outputs": [
        {
          "output_type": "stream",
          "name": "stdout",
          "text": [
            "MAE: 2068.1893028095237\n",
            "MSE: 15321631.165431136\n",
            "RMSE: 3914.2855242599685\n"
          ]
        }
      ]
    },
    {
      "cell_type": "markdown",
      "source": [
        "XBGBooster"
      ],
      "metadata": {
        "id": "YaXYZHJ7T8FN"
      }
    },
    {
      "cell_type": "code",
      "source": [
        "xgb_model = xgbr(objective = 'reg:squarederror',n_jobs=8, tree_method='exact', learning_rate = 0.1, max_depth = 9, n_estimators = 50)\n",
        "xgb_model.fit(X_train, y_train)"
      ],
      "metadata": {
        "colab": {
          "base_uri": "https://localhost:8080/"
        },
        "id": "w2wLOcf_T00l",
        "outputId": "3a415135-fca5-4681-a88b-b0c84ad25bcf"
      },
      "execution_count": 313,
      "outputs": [
        {
          "output_type": "execute_result",
          "data": {
            "text/plain": [
              "XGBRegressor(max_depth=9, n_estimators=50, n_jobs=8,\n",
              "             objective='reg:squarederror', tree_method='exact')"
            ]
          },
          "metadata": {},
          "execution_count": 313
        }
      ]
    },
    {
      "cell_type": "code",
      "source": [
        "#Model details\n",
        "print('---XGBoost Regressor---')\n",
        "test_pred_xgb = xgb_model.predict(X_test) # predicting test data\n",
        "train_pred_xgb = xgb_model.predict(X_train) # predicting train data\n",
        "\n",
        "print(\"Model Score on train data\", ((r2_score(y_train, train_pred_xgb)*100).round(3)),'%')\n",
        "print(\"Model Score on test data\", ((r2_score(y_test,test_pred_xgb)*100).round(3)),'%')\n",
        "print('RMSE:', np.sqrt(metrics.mean_squared_error(y_test, test_pred_xgb)))"
      ],
      "metadata": {
        "colab": {
          "base_uri": "https://localhost:8080/"
        },
        "id": "yXG7z70RT2E3",
        "outputId": "d2d0bdf5-e266-4131-a23c-88551550441a"
      },
      "execution_count": 314,
      "outputs": [
        {
          "output_type": "stream",
          "name": "stdout",
          "text": [
            "---XGBoost Regressor---\n",
            "Model Score on train data 98.079 %\n",
            "Model Score on test data 96.748 %\n",
            "RMSE: 4131.080994851345\n"
          ]
        }
      ]
    },
    {
      "cell_type": "code",
      "source": [
        "kfold = KFold(n_splits=10, shuffle=True)\n",
        "kf_cv_scores = cross_val_score(xgb_model, X_train, y_train, cv=kfold )\n",
        "print(\"K-fold CV average score: %.2f\" % kf_cv_scores.mean())"
      ],
      "metadata": {
        "colab": {
          "base_uri": "https://localhost:8080/"
        },
        "id": "PcKiz7dJT4SK",
        "outputId": "23499eb8-56f9-4c59-d914-e05d898fa1af"
      },
      "execution_count": 315,
      "outputs": [
        {
          "output_type": "stream",
          "name": "stdout",
          "text": [
            "K-fold CV average score: 0.97\n"
          ]
        }
      ]
    },
    {
      "cell_type": "markdown",
      "source": [
        "# LinearRegression"
      ],
      "metadata": {
        "id": "s8awktMRoggA"
      }
    },
    {
      "cell_type": "code",
      "source": [
        "\n",
        "LR_model = LinearRegression()"
      ],
      "metadata": {
        "id": "9i-yyKTmoiP-"
      },
      "execution_count": 316,
      "outputs": []
    },
    {
      "cell_type": "code",
      "source": [
        "LR_model.fit(X, y)\n"
      ],
      "metadata": {
        "colab": {
          "base_uri": "https://localhost:8080/"
        },
        "id": "75yuLv2hoi7M",
        "outputId": "fdc90b46-cc32-4caa-ba9d-03a71239e205"
      },
      "execution_count": 317,
      "outputs": [
        {
          "output_type": "execute_result",
          "data": {
            "text/plain": [
              "LinearRegression()"
            ]
          },
          "metadata": {},
          "execution_count": 317
        }
      ]
    },
    {
      "cell_type": "code",
      "source": [
        "y_pred = LR_model.predict(X_test)\n",
        "y_pred"
      ],
      "metadata": {
        "colab": {
          "base_uri": "https://localhost:8080/"
        },
        "id": "7lfmQ21Pole1",
        "outputId": "175f1331-d554-4bfe-9583-f655e24ddeed"
      },
      "execution_count": 318,
      "outputs": [
        {
          "output_type": "execute_result",
          "data": {
            "text/plain": [
              "array([54426.87357342, 52273.79637816, 11943.12871507, ...,\n",
              "        6394.58011015,  6146.30741265,  5368.66803072])"
            ]
          },
          "metadata": {},
          "execution_count": 318
        }
      ]
    },
    {
      "cell_type": "code",
      "source": [
        "lin_mse = mean_squared_error(y_test, y_pred)\n",
        "# RMSE hisoblaymiz\n",
        "lin_rmse = np.sqrt(lin_mse)\n",
        "print(lin_rmse)"
      ],
      "metadata": {
        "colab": {
          "base_uri": "https://localhost:8080/"
        },
        "id": "mqxnnx5Tqne4",
        "outputId": "62c8f73f-72f7-464d-9aa8-c76e4c14eafa"
      },
      "execution_count": 319,
      "outputs": [
        {
          "output_type": "stream",
          "name": "stdout",
          "text": [
            "7048.750896760155\n"
          ]
        }
      ]
    },
    {
      "cell_type": "markdown",
      "source": [
        "## Decision Tree"
      ],
      "metadata": {
        "id": "RcMHwFUNrLkC"
      }
    },
    {
      "cell_type": "code",
      "source": [
        "Tree_model = DecisionTreeRegressor()\n",
        "Tree_model.fit(X, y)\n"
      ],
      "metadata": {
        "colab": {
          "base_uri": "https://localhost:8080/"
        },
        "id": "fZBxbqrwrOwa",
        "outputId": "4392f3cd-1f77-4f18-8d8c-42779b9f9600"
      },
      "execution_count": 320,
      "outputs": [
        {
          "output_type": "execute_result",
          "data": {
            "text/plain": [
              "DecisionTreeRegressor()"
            ]
          },
          "metadata": {},
          "execution_count": 320
        }
      ]
    },
    {
      "cell_type": "code",
      "source": [
        "y_predicted = Tree_model.predict(X_test)\n"
      ],
      "metadata": {
        "id": "wwvibMIIrOzI"
      },
      "execution_count": 321,
      "outputs": []
    },
    {
      "cell_type": "code",
      "source": [
        "# submission = Tree_model.predict(data_test)\n"
      ],
      "metadata": {
        "id": "i6o28W3Qr67Q"
      },
      "execution_count": 322,
      "outputs": []
    },
    {
      "cell_type": "code",
      "source": [
        "lin_mse = mean_squared_error(y_test, y_predicted)\n",
        "# RMSE hisoblaymiz\n",
        "lin_rmse = np.sqrt(lin_mse)\n",
        "print(lin_rmse)"
      ],
      "metadata": {
        "colab": {
          "base_uri": "https://localhost:8080/"
        },
        "id": "W0P3qZASrO1v",
        "outputId": "77406773-ae1f-497a-d451-eab7257ad1af"
      },
      "execution_count": 323,
      "outputs": [
        {
          "output_type": "stream",
          "name": "stdout",
          "text": [
            "177.8609014089381\n"
          ]
        }
      ]
    },
    {
      "cell_type": "markdown",
      "source": [
        "## Cross Validation"
      ],
      "metadata": {
        "id": "d2kR_BazoFrZ"
      }
    },
    {
      "cell_type": "code",
      "source": [
        "def display_scores(scores):\n",
        "    print(\"Scores:\", scores)\n",
        "    print(\"Mean:\", scores.mean())\n",
        "    print(\"Std.dev:\", scores.std())"
      ],
      "metadata": {
        "id": "VXZ87YalKBnQ"
      },
      "execution_count": 324,
      "outputs": []
    },
    {
      "cell_type": "code",
      "source": [
        "scores = cross_val_score(LR_model, X, y, scoring=\"neg_mean_squared_error\", cv=10)\n",
        "LR_rmse_scores = np.sqrt(-scores)\n"
      ],
      "metadata": {
        "id": "e9Vb5VbooTCS"
      },
      "execution_count": 325,
      "outputs": []
    },
    {
      "cell_type": "code",
      "source": [
        "display_scores(LR_rmse_scores)\n"
      ],
      "metadata": {
        "colab": {
          "base_uri": "https://localhost:8080/"
        },
        "id": "rt-P8boZoXiW",
        "outputId": "fa556721-173c-4aab-81cf-b2f44ff6e3b5"
      },
      "execution_count": 326,
      "outputs": [
        {
          "output_type": "stream",
          "name": "stdout",
          "text": [
            "Scores: [6965.95412114 7023.87808748 6920.9403493  6597.26466259 7070.06486693\n",
            " 6935.89759355 7250.62764049 6811.72944541 6950.75509137 7277.60713679]\n",
            "Mean: 6980.4718995055355\n",
            "Std.dev: 187.91780161299639\n"
          ]
        }
      ]
    },
    {
      "cell_type": "markdown",
      "source": [
        "## Saving the submission file"
      ],
      "metadata": {
        "id": "a3SgrcqoMjPm"
      }
    },
    {
      "cell_type": "code",
      "source": [
        "pred = pd.DataFrame(submissionrf)\n",
        "sub_df = pd.read_csv('https://raw.githubusercontent.com/bobby6007/flight_fare_prediction/main/sample_solution.csv')\n",
        "datasets = pd.concat([sub_df['id'],pred],axis=1)\n",
        "datasets.columns=['id','price']\n",
        "datasets.to_csv('final_submission.csv',index=False)"
      ],
      "metadata": {
        "id": "aIVvLWdSQaoz"
      },
      "execution_count": 327,
      "outputs": []
    },
    {
      "cell_type": "code",
      "source": [
        "df = pd.read_csv('/content/final_submission.csv')\n",
        "df"
      ],
      "metadata": {
        "id": "nKNow9tcsGY8",
        "colab": {
          "base_uri": "https://localhost:8080/",
          "height": 520
        },
        "outputId": "6649f96d-e46c-4f49-9efe-a67c58a649e8"
      },
      "execution_count": 328,
      "outputs": [
        {
          "output_type": "execute_result",
          "data": {
            "text/plain": [
              "        id         price\n",
              "0        1  13131.976667\n",
              "1        2  13211.316667\n",
              "2        3   8322.700000\n",
              "3        4  13211.316667\n",
              "4        5  13561.126667\n",
              "...    ...           ...\n",
              "4995  4996  13090.056667\n",
              "4996  4997  14108.326667\n",
              "4997  4998  13131.976667\n",
              "4998  4999  13131.976667\n",
              "4999  5000  13561.126667\n",
              "\n",
              "[5000 rows x 2 columns]"
            ],
            "text/html": [
              "\n",
              "  <div id=\"df-016a21b3-9ab5-4e1a-9690-a4183a242139\">\n",
              "    <div class=\"colab-df-container\">\n",
              "      <div>\n",
              "<style scoped>\n",
              "    .dataframe tbody tr th:only-of-type {\n",
              "        vertical-align: middle;\n",
              "    }\n",
              "\n",
              "    .dataframe tbody tr th {\n",
              "        vertical-align: top;\n",
              "    }\n",
              "\n",
              "    .dataframe thead th {\n",
              "        text-align: right;\n",
              "    }\n",
              "</style>\n",
              "<table border=\"1\" class=\"dataframe\">\n",
              "  <thead>\n",
              "    <tr style=\"text-align: right;\">\n",
              "      <th></th>\n",
              "      <th>id</th>\n",
              "      <th>price</th>\n",
              "    </tr>\n",
              "  </thead>\n",
              "  <tbody>\n",
              "    <tr>\n",
              "      <th>0</th>\n",
              "      <td>1</td>\n",
              "      <td>13131.976667</td>\n",
              "    </tr>\n",
              "    <tr>\n",
              "      <th>1</th>\n",
              "      <td>2</td>\n",
              "      <td>13211.316667</td>\n",
              "    </tr>\n",
              "    <tr>\n",
              "      <th>2</th>\n",
              "      <td>3</td>\n",
              "      <td>8322.700000</td>\n",
              "    </tr>\n",
              "    <tr>\n",
              "      <th>3</th>\n",
              "      <td>4</td>\n",
              "      <td>13211.316667</td>\n",
              "    </tr>\n",
              "    <tr>\n",
              "      <th>4</th>\n",
              "      <td>5</td>\n",
              "      <td>13561.126667</td>\n",
              "    </tr>\n",
              "    <tr>\n",
              "      <th>...</th>\n",
              "      <td>...</td>\n",
              "      <td>...</td>\n",
              "    </tr>\n",
              "    <tr>\n",
              "      <th>4995</th>\n",
              "      <td>4996</td>\n",
              "      <td>13090.056667</td>\n",
              "    </tr>\n",
              "    <tr>\n",
              "      <th>4996</th>\n",
              "      <td>4997</td>\n",
              "      <td>14108.326667</td>\n",
              "    </tr>\n",
              "    <tr>\n",
              "      <th>4997</th>\n",
              "      <td>4998</td>\n",
              "      <td>13131.976667</td>\n",
              "    </tr>\n",
              "    <tr>\n",
              "      <th>4998</th>\n",
              "      <td>4999</td>\n",
              "      <td>13131.976667</td>\n",
              "    </tr>\n",
              "    <tr>\n",
              "      <th>4999</th>\n",
              "      <td>5000</td>\n",
              "      <td>13561.126667</td>\n",
              "    </tr>\n",
              "  </tbody>\n",
              "</table>\n",
              "<p>5000 rows × 2 columns</p>\n",
              "</div>\n",
              "      <button class=\"colab-df-convert\" onclick=\"convertToInteractive('df-016a21b3-9ab5-4e1a-9690-a4183a242139')\"\n",
              "              title=\"Convert this dataframe to an interactive table.\"\n",
              "              style=\"display:none;\">\n",
              "        \n",
              "  <svg xmlns=\"http://www.w3.org/2000/svg\" height=\"24px\"viewBox=\"0 0 24 24\"\n",
              "       width=\"24px\">\n",
              "    <path d=\"M0 0h24v24H0V0z\" fill=\"none\"/>\n",
              "    <path d=\"M18.56 5.44l.94 2.06.94-2.06 2.06-.94-2.06-.94-.94-2.06-.94 2.06-2.06.94zm-11 1L8.5 8.5l.94-2.06 2.06-.94-2.06-.94L8.5 2.5l-.94 2.06-2.06.94zm10 10l.94 2.06.94-2.06 2.06-.94-2.06-.94-.94-2.06-.94 2.06-2.06.94z\"/><path d=\"M17.41 7.96l-1.37-1.37c-.4-.4-.92-.59-1.43-.59-.52 0-1.04.2-1.43.59L10.3 9.45l-7.72 7.72c-.78.78-.78 2.05 0 2.83L4 21.41c.39.39.9.59 1.41.59.51 0 1.02-.2 1.41-.59l7.78-7.78 2.81-2.81c.8-.78.8-2.07 0-2.86zM5.41 20L4 18.59l7.72-7.72 1.47 1.35L5.41 20z\"/>\n",
              "  </svg>\n",
              "      </button>\n",
              "      \n",
              "  <style>\n",
              "    .colab-df-container {\n",
              "      display:flex;\n",
              "      flex-wrap:wrap;\n",
              "      gap: 12px;\n",
              "    }\n",
              "\n",
              "    .colab-df-convert {\n",
              "      background-color: #E8F0FE;\n",
              "      border: none;\n",
              "      border-radius: 50%;\n",
              "      cursor: pointer;\n",
              "      display: none;\n",
              "      fill: #1967D2;\n",
              "      height: 32px;\n",
              "      padding: 0 0 0 0;\n",
              "      width: 32px;\n",
              "    }\n",
              "\n",
              "    .colab-df-convert:hover {\n",
              "      background-color: #E2EBFA;\n",
              "      box-shadow: 0px 1px 2px rgba(60, 64, 67, 0.3), 0px 1px 3px 1px rgba(60, 64, 67, 0.15);\n",
              "      fill: #174EA6;\n",
              "    }\n",
              "\n",
              "    [theme=dark] .colab-df-convert {\n",
              "      background-color: #3B4455;\n",
              "      fill: #D2E3FC;\n",
              "    }\n",
              "\n",
              "    [theme=dark] .colab-df-convert:hover {\n",
              "      background-color: #434B5C;\n",
              "      box-shadow: 0px 1px 3px 1px rgba(0, 0, 0, 0.15);\n",
              "      filter: drop-shadow(0px 1px 2px rgba(0, 0, 0, 0.3));\n",
              "      fill: #FFFFFF;\n",
              "    }\n",
              "  </style>\n",
              "\n",
              "      <script>\n",
              "        const buttonEl =\n",
              "          document.querySelector('#df-016a21b3-9ab5-4e1a-9690-a4183a242139 button.colab-df-convert');\n",
              "        buttonEl.style.display =\n",
              "          google.colab.kernel.accessAllowed ? 'block' : 'none';\n",
              "\n",
              "        async function convertToInteractive(key) {\n",
              "          const element = document.querySelector('#df-016a21b3-9ab5-4e1a-9690-a4183a242139');\n",
              "          const dataTable =\n",
              "            await google.colab.kernel.invokeFunction('convertToInteractive',\n",
              "                                                     [key], {});\n",
              "          if (!dataTable) return;\n",
              "\n",
              "          const docLinkHtml = 'Like what you see? Visit the ' +\n",
              "            '<a target=\"_blank\" href=https://colab.research.google.com/notebooks/data_table.ipynb>data table notebook</a>'\n",
              "            + ' to learn more about interactive tables.';\n",
              "          element.innerHTML = '';\n",
              "          dataTable['output_type'] = 'display_data';\n",
              "          await google.colab.output.renderOutput(dataTable, element);\n",
              "          const docLink = document.createElement('div');\n",
              "          docLink.innerHTML = docLinkHtml;\n",
              "          element.appendChild(docLink);\n",
              "        }\n",
              "      </script>\n",
              "    </div>\n",
              "  </div>\n",
              "  "
            ]
          },
          "metadata": {},
          "execution_count": 328
        }
      ]
    },
    {
      "cell_type": "code",
      "source": [
        ""
      ],
      "metadata": {
        "id": "MjHU-qJ4pE9p"
      },
      "execution_count": 328,
      "outputs": []
    }
  ]
}